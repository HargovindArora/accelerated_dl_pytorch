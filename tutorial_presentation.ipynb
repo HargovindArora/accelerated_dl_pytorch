{
 "cells": [
  {
   "cell_type": "markdown",
   "metadata": {
    "slideshow": {
     "slide_type": "slide"
    }
   },
   "source": [
    "# <center> Accelerated Deep Learning with PyTorch\n",
    "\n",
    "\n",
    "\n",
    "\n",
    "\n",
    "<center> **[Wafa Louhichi]()**, [Michael Isaev](), [Tom Kurfess](http://www.me.gatech.edu/faculty/kurfess) and [Rich Vuduc](https://vuduc.org)\n",
    "\n",
    "<center> [Jupyter Day Atlanta (2018)](https://atl-jugheads.github.io/jupyter-day-atlanta-ii/)."
   ]
  },
  {
   "cell_type": "markdown",
   "metadata": {
    "slideshow": {
     "slide_type": "notes"
    }
   },
   "source": [
    "This tutorial shows you how to train a deep neural network using [PyTorch](http://pytorch.org/). PyTorch is a Python package aimed at accelerating deep learning applications, building on the [Torch](http://torch.ch/) library. PyTorch provides a [Numpy](http://www.numpy.org/)-like abstraction for representing _tensors_, or multiway arrays, and it can take advantage of [GPUs](http://www.nvidia.com/object/what-is-gpu-computing.html) for performance. The tutorial ends with a short case study, which is how one of us [Wafa]() applied PyTorch to automate the inspection of surface finish quality in manufacturing.\n",
    "\n",
    "> Besides PyTorch, there are numerous proposed tools and extensions to get GPU acceleration for multiway arrays. See **Suggested Next Steps** at the end of this tutorial for pointers."
   ]
  },
  {
   "cell_type": "markdown",
   "metadata": {
    "slideshow": {
     "slide_type": "skip"
    }
   },
   "source": [
    "**Knowledge prerequisites.** This tutorial assumes familiarity with Python and Numpy, for starters."
   ]
  },
  {
   "cell_type": "code",
   "execution_count": 1,
   "metadata": {
    "collapsed": true,
    "slideshow": {
     "slide_type": "skip"
    }
   },
   "outputs": [],
   "source": [
    "import numpy as np"
   ]
  },
  {
   "cell_type": "markdown",
   "metadata": {
    "slideshow": {
     "slide_type": "skip"
    }
   },
   "source": [
    "From there, PyTorch makes it easy to get started with deep learning even if your background in the topic is modest. At a minimum, it's helpful to know that a multilayer neural network model may be viewed as a graph of nodes (values and functions on values) connected by weights (the unknown parameters of the model), where one wishes to estimate the weights from data using an optimization procedure (think: gradient computations!) based on forward and backward propagation.\n",
    "\n",
    "**Software prerequisites.** You'll need to install PyTorch before running this notebook. Here's a code cell to verify that you are ready to go."
   ]
  },
  {
   "cell_type": "code",
   "execution_count": 2,
   "metadata": {
    "collapsed": true,
    "slideshow": {
     "slide_type": "skip"
    }
   },
   "outputs": [],
   "source": [
    "import torch"
   ]
  },
  {
   "cell_type": "markdown",
   "metadata": {
    "slideshow": {
     "slide_type": "notes"
    }
   },
   "source": [
    "**Hardware niceties.** Lastly, to exploit GPUs, you'll need an NVIDIA GPU with the CUDA SDK installed. It is reported that 10-100$\\times$ speedups are possible by doing so. Of course, if you don't have such a setup, PyTorch still can run using the CPU only. But remember, when it comes to training neural network models, life is short---so you should use GPUs if you can!"
   ]
  },
  {
   "cell_type": "markdown",
   "metadata": {
    "slideshow": {
     "slide_type": "slide"
    }
   },
   "source": [
    "## **Presentation Outline.**\n",
    "\n",
    "### 1. Essential PyTorch Background\n",
    "### 2. PyTorch for Data Analytics\n",
    "### 3. LeNet Convolutional Neural Network (CNN) in PyTorch \n",
    "### 4. Application to a Manufacturing Problem"
   ]
  },
  {
   "cell_type": "markdown",
   "metadata": {
    "slideshow": {
     "slide_type": "slide"
    }
   },
   "source": [
    "## 1. Essential PyTorch background\n",
    "\n",
    "* PyTorch is a Python package aimed at accelerating deep learning applications, building on the [Torch](http://torch.ch/) library. \n",
    "* PyTorch provides a [Numpy](http://www.numpy.org/)-like abstraction for representing _tensors_, or multiway arrays, and it can take advantage of [GPUs](http://www.nvidia.com/object/what-is-gpu-computing.html) for performance.\n",
    "\n",
    "<img src=\"images/tensor.png\" style=\"max-width:100%; width: 75%; max-width: none\"/>"
   ]
  },
  {
   "cell_type": "markdown",
   "metadata": {
    "slideshow": {
     "slide_type": "slide"
    }
   },
   "source": [
    "## 1.1 PyTorch Tensors"
   ]
  },
  {
   "cell_type": "markdown",
   "metadata": {
    "collapsed": true,
    "slideshow": {
     "slide_type": "notes"
    }
   },
   "source": [
    "The key data abstraction of PyTorch is a tensor, which is a multidimensional array. It is similar in functionality to Numpy's `ndarray` object. Use [torch.Tensor()](http://pytorch.org/docs/master/tensors.html) to create one."
   ]
  },
  {
   "cell_type": "code",
   "execution_count": 3,
   "metadata": {
    "slideshow": {
     "slide_type": "fragment"
    }
   },
   "outputs": [
    {
     "name": "stdout",
     "output_type": "stream",
     "text": [
      "type:  <class 'torch.FloatTensor'>  and size:  torch.Size([10, 20])\n"
     ]
    }
   ],
   "source": [
    "# Generate a 2-D pytorch tensor (i.e., a matrix)\n",
    "pytorch_tensor = torch.Tensor(10, 20)\n",
    "print(\"type: \", type(pytorch_tensor), \" and size: \", pytorch_tensor.shape )"
   ]
  },
  {
   "cell_type": "markdown",
   "metadata": {
    "slideshow": {
     "slide_type": "notes"
    }
   },
   "source": [
    "If you need a Numpy-compatible representation, or if you want to create a PyTorch tensor from an existing Numpy object, it's easy to do."
   ]
  },
  {
   "cell_type": "code",
   "execution_count": 4,
   "metadata": {
    "slideshow": {
     "slide_type": "fragment"
    }
   },
   "outputs": [
    {
     "name": "stdout",
     "output_type": "stream",
     "text": [
      "type:  <class 'numpy.ndarray'>  and size:  (10, 20)\n",
      "type:  <class 'torch.FloatTensor'>  and size:  torch.Size([10, 20])\n"
     ]
    }
   ],
   "source": [
    "# Convert the pytorch tensor to a numpy array:\n",
    "numpy_tensor = pytorch_tensor.numpy()\n",
    "print(\"type: \", type(numpy_tensor), \" and size: \", numpy_tensor.shape)\n",
    "\n",
    "# Convert the numpy array to Pytorch Tensor:\n",
    "print(\"type: \", type(torch.Tensor(numpy_tensor)), \" and size: \", torch.Tensor(numpy_tensor).shape)"
   ]
  },
  {
   "cell_type": "markdown",
   "metadata": {
    "slideshow": {
     "slide_type": "slide"
    }
   },
   "source": [
    "## 1.2 PyTorch vs. NumPy"
   ]
  },
  {
   "cell_type": "markdown",
   "metadata": {
    "slideshow": {
     "slide_type": "notes"
    }
   },
   "source": [
    "PyTorch is not a drop in replacement for NumPy, but it implements a lot of Numpy functionality. One inconvenience is it's naming scheme that sometimes is rather different from Numpy. Let's go over several examples to see the difference. Let's look at PyTorch and NumPy differences on various examples:"
   ]
  },
  {
   "cell_type": "markdown",
   "metadata": {
    "slideshow": {
     "slide_type": "fragment"
    }
   },
   "source": [
    "#### 1. Tensor creation"
   ]
  },
  {
   "cell_type": "code",
   "execution_count": 5,
   "metadata": {
    "collapsed": true,
    "slideshow": {
     "slide_type": "fragment"
    }
   },
   "outputs": [],
   "source": [
    "t = torch.rand(2, 4, 3, 5)\n",
    "a = np.random.rand(2, 4, 3, 5)"
   ]
  },
  {
   "cell_type": "code",
   "execution_count": 6,
   "metadata": {
    "slideshow": {
     "slide_type": "skip"
    }
   },
   "outputs": [
    {
     "name": "stdout",
     "output_type": "stream",
     "text": [
      "Random Tensor with size (3, 4):\n",
      " \n",
      " 0.2687  0.4535  0.1562  0.1470\n",
      " 0.6824  0.5180  0.2928  0.4175\n",
      " 0.2522  0.0826  0.7987  0.1032\n",
      "[torch.FloatTensor of size 3x4]\n",
      "\n",
      "Random NdArray with size (3, 4):\n",
      " [[ 0.9221226   0.54427845  0.39084139  0.11807335]\n",
      " [ 0.58825753  0.06241606  0.89243157  0.33282672]\n",
      " [ 0.16356127  0.74073636  0.8937606   0.25118884]]\n",
      "-------------------------------------------------------------------------\n"
     ]
    }
   ],
   "source": [
    "print('Random Tensor with size (3, 4):\\n', torch.rand(3, 4))\n",
    "print(\"Random NdArray with size (3, 4):\\n\", np.random.rand(3, 4))\n",
    "print('-------------------------------------------------------------------------')"
   ]
  },
  {
   "cell_type": "markdown",
   "metadata": {
    "slideshow": {
     "slide_type": "skip"
    }
   },
   "source": [
    "You can see other initializations schemes like zeros, ones, and identity matrices below."
   ]
  },
  {
   "cell_type": "code",
   "execution_count": 7,
   "metadata": {
    "slideshow": {
     "slide_type": "skip"
    }
   },
   "outputs": [
    {
     "name": "stdout",
     "output_type": "stream",
     "text": [
      "Tensor of zeros with size (3, 4):\n",
      " \n",
      " 0  0  0  0\n",
      " 0  0  0  0\n",
      " 0  0  0  0\n",
      "[torch.FloatTensor of size 3x4]\n",
      "\n",
      "NdArray of zeros with size (3, 4):\n",
      " [[ 0.  0.  0.  0.]\n",
      " [ 0.  0.  0.  0.]\n",
      " [ 0.  0.  0.  0.]]\n",
      "-------------------------------------------------------------------------\n",
      "Tensor of ones with size (3, 4):\n",
      " \n",
      " 1  1  1  1\n",
      " 1  1  1  1\n",
      " 1  1  1  1\n",
      "[torch.FloatTensor of size 3x4]\n",
      "\n",
      "NdArray of ones with size (3, 4):\n",
      " [[ 1.  1.  1.  1.]\n",
      " [ 1.  1.  1.  1.]\n",
      " [ 1.  1.  1.  1.]]\n",
      "-------------------------------------------------------------------------\n",
      "Identity Tensor with size (3, 4):\n",
      " \n",
      " 1  0  0  0\n",
      " 0  1  0  0\n",
      " 0  0  1  0\n",
      "[torch.FloatTensor of size 3x4]\n",
      "\n",
      "Identity NdArray with size (3, 3) (can't create non-squared identity matrix):\n",
      " [[ 1.  0.  0.]\n",
      " [ 0.  1.  0.]\n",
      " [ 0.  0.  1.]]\n",
      "-------------------------------------------------------------------------\n"
     ]
    }
   ],
   "source": [
    "print('Tensor of zeros with size (3, 4):\\n', torch.zeros(3, 4))\n",
    "print('NdArray of zeros with size (3, 4):\\n', np.zeros((3, 4)))\n",
    "print('-------------------------------------------------------------------------')\n",
    "\n",
    "print('Tensor of ones with size (3, 4):\\n', torch.ones(3, 4))\n",
    "print('NdArray of ones with size (3, 4):\\n', np.ones((3, 4)))\n",
    "print('-------------------------------------------------------------------------')\n",
    "\n",
    "print('Identity Tensor with size (3, 4):\\n', torch.eye(3, 4))\n",
    "print(\"Identity NdArray with size (3, 3) (can't create non-squared identity matrix):\\n\", np.eye(3))\n",
    "print('-------------------------------------------------------------------------')"
   ]
  },
  {
   "cell_type": "markdown",
   "metadata": {
    "slideshow": {
     "slide_type": "fragment"
    }
   },
   "source": [
    "#### 2. Tensor slicing"
   ]
  },
  {
   "cell_type": "code",
   "execution_count": 8,
   "metadata": {
    "slideshow": {
     "slide_type": "skip"
    }
   },
   "outputs": [
    {
     "name": "stdout",
     "output_type": "stream",
     "text": [
      "Tensor:\n",
      " \n",
      "(0 ,0 ,.,.) = \n",
      "  0.2353  0.3940  0.5236  0.0965  0.7462\n",
      "  0.8047  0.7706  0.7035  0.8961  0.6226\n",
      "  0.0524  0.2388  0.6801  0.2517  0.7626\n",
      "\n",
      "(0 ,1 ,.,.) = \n",
      "  0.7094  0.3178  0.9071  0.5035  0.2032\n",
      "  0.9533  0.7225  0.3106  0.6425  0.1594\n",
      "  0.6849  0.3640  0.7304  0.8298  0.3114\n",
      "\n",
      "(0 ,2 ,.,.) = \n",
      "  0.5726  0.1185  0.8974  0.1053  0.9073\n",
      "  0.5831  0.8008  0.8334  0.8271  0.6497\n",
      "  0.3021  0.4453  0.0228  0.4584  0.2826\n",
      "\n",
      "(0 ,3 ,.,.) = \n",
      "  0.5222  0.3387  0.6303  0.9214  0.4238\n",
      "  0.0181  0.5255  0.1014  0.9714  0.8173\n",
      "  0.2635  0.7258  0.1076  0.1959  0.0803\n",
      "\n",
      "(1 ,0 ,.,.) = \n",
      "  0.3146  0.8596  0.5384  0.5301  0.2259\n",
      "  0.5644  0.4054  0.6867  0.3449  0.1055\n",
      "  0.3096  0.9881  0.0009  0.7668  0.1698\n",
      "\n",
      "(1 ,1 ,.,.) = \n",
      "  0.5302  0.7687  0.4239  0.1969  0.9981\n",
      "  0.4789  0.1910  0.4797  0.1617  0.1610\n",
      "  0.6330  0.6916  0.9095  0.5786  0.4924\n",
      "\n",
      "(1 ,2 ,.,.) = \n",
      "  0.1892  0.6991  0.3013  0.7681  0.7045\n",
      "  0.2920  0.5094  0.4631  0.6119  0.3043\n",
      "  0.4938  0.5368  0.3839  0.8246  0.4544\n",
      "\n",
      "(1 ,3 ,.,.) = \n",
      "  0.7249  0.4835  0.5392  0.6014  0.4747\n",
      "  0.4734  0.0815  0.1517  0.5613  0.5622\n",
      "  0.5787  0.4567  0.7078  0.9083  0.0713\n",
      "[torch.FloatTensor of size 2x4x3x5]\n",
      "\n",
      "NdArray:\n",
      " [[[[  2.35266149e-01   3.94001544e-01   5.23599505e-01   9.65321660e-02\n",
      "      7.46225476e-01]\n",
      "   [  8.04683864e-01   7.70551920e-01   7.03463018e-01   8.96062672e-01\n",
      "      6.22605801e-01]\n",
      "   [  5.23919463e-02   2.38847196e-01   6.80063128e-01   2.51653731e-01\n",
      "      7.62594163e-01]]\n",
      "\n",
      "  [[  7.09381461e-01   3.17814767e-01   9.07121003e-01   5.03548861e-01\n",
      "      2.03220844e-01]\n",
      "   [  9.53343928e-01   7.22493529e-01   3.10601354e-01   6.42495573e-01\n",
      "      1.59355521e-01]\n",
      "   [  6.84857786e-01   3.63963306e-01   7.30434358e-01   8.29808414e-01\n",
      "      3.11439395e-01]]\n",
      "\n",
      "  [[  5.72571039e-01   1.18456125e-01   8.97350490e-01   1.05296135e-01\n",
      "      9.07261372e-01]\n",
      "   [  5.83072662e-01   8.00758421e-01   8.33401263e-01   8.27071071e-01\n",
      "      6.49661124e-01]\n",
      "   [  3.02051365e-01   4.45313454e-01   2.28268504e-02   4.58414435e-01\n",
      "      2.82595038e-01]]\n",
      "\n",
      "  [[  5.22177517e-01   3.38662267e-01   6.30302966e-01   9.21366513e-01\n",
      "      4.23827350e-01]\n",
      "   [  1.81279182e-02   5.25528014e-01   1.01398468e-01   9.71433997e-01\n",
      "      8.17272782e-01]\n",
      "   [  2.63513923e-01   7.25817621e-01   1.07580960e-01   1.95925176e-01\n",
      "      8.02723765e-02]]]\n",
      "\n",
      "\n",
      " [[[  3.14632356e-01   8.59642804e-01   5.38383722e-01   5.30092120e-01\n",
      "      2.25893259e-01]\n",
      "   [  5.64411581e-01   4.05419648e-01   6.86654627e-01   3.44886243e-01\n",
      "      1.05519712e-01]\n",
      "   [  3.09615314e-01   9.88126993e-01   8.94665718e-04   7.66828716e-01\n",
      "      1.69833779e-01]]\n",
      "\n",
      "  [[  5.30231118e-01   7.68676221e-01   4.23854351e-01   1.96927369e-01\n",
      "      9.98137891e-01]\n",
      "   [  4.78865862e-01   1.90981925e-01   4.79736984e-01   1.61729097e-01\n",
      "      1.61048293e-01]\n",
      "   [  6.33021832e-01   6.91628098e-01   9.09508765e-01   5.78613877e-01\n",
      "      4.92397547e-01]]\n",
      "\n",
      "  [[  1.89242125e-01   6.99099720e-01   3.01253200e-01   7.68107295e-01\n",
      "      7.04518139e-01]\n",
      "   [  2.91954458e-01   5.09429097e-01   4.63145733e-01   6.11934304e-01\n",
      "      3.04336846e-01]\n",
      "   [  4.93766069e-01   5.36813736e-01   3.83876801e-01   8.24628472e-01\n",
      "      4.54383314e-01]]\n",
      "\n",
      "  [[  7.24947572e-01   4.83467460e-01   5.39229155e-01   6.01448357e-01\n",
      "      4.74733293e-01]\n",
      "   [  4.73427653e-01   8.14995170e-02   1.51711106e-01   5.61286628e-01\n",
      "      5.62167287e-01]\n",
      "   [  5.78667998e-01   4.56686199e-01   7.07787573e-01   9.08277869e-01\n",
      "      7.12981820e-02]]]]\n",
      "-------------------------------------------------------------------------\n"
     ]
    }
   ],
   "source": [
    "t = torch.rand(2, 4, 3, 5)\n",
    "a = t.numpy()\n",
    "\n",
    "print ('Tensor:\\n', t)\n",
    "print ('NdArray:\\n', a)\n",
    "print ('-------------------------------------------------------------------------')"
   ]
  },
  {
   "cell_type": "code",
   "execution_count": 9,
   "metadata": {
    "collapsed": true,
    "slideshow": {
     "slide_type": "fragment"
    }
   },
   "outputs": [],
   "source": [
    "pytorch_slice = t[0, 1:3, :, 4]\n",
    "numpy_slice =  a[0, 1:3, :, 4]"
   ]
  },
  {
   "cell_type": "code",
   "execution_count": 10,
   "metadata": {
    "slideshow": {
     "slide_type": "skip"
    }
   },
   "outputs": [
    {
     "name": "stdout",
     "output_type": "stream",
     "text": [
      "Tensor[0, 1:3, :, 4]:\n",
      " \n",
      " 0.2032  0.1594  0.3114\n",
      " 0.9073  0.6497  0.2826\n",
      "[torch.FloatTensor of size 2x3]\n",
      "\n",
      "NdArray[0, 1:3, :, 4]:\n",
      " [[ 0.20322084  0.15935552  0.31143939]\n",
      " [ 0.90726137  0.64966112  0.28259504]]\n",
      "-------------------------------------------------------------------------\n"
     ]
    }
   ],
   "source": [
    "print ('Tensor[0, 1:3, :, 4]:\\n', pytorch_slice)\n",
    "print ('NdArray[0, 1:3, :, 4]:\\n', numpy_slice)\n",
    "print ('-------------------------------------------------------------------------')"
   ]
  },
  {
   "cell_type": "markdown",
   "metadata": {
    "slideshow": {
     "slide_type": "skip"
    }
   },
   "source": [
    "Below you can find more slicing examples."
   ]
  },
  {
   "cell_type": "code",
   "execution_count": 11,
   "metadata": {
    "slideshow": {
     "slide_type": "skip"
    }
   },
   "outputs": [
    {
     "name": "stdout",
     "output_type": "stream",
     "text": [
      "Tensor size:\n",
      " torch.Size([2, 4, 3, 5])\n",
      "NdArray size:\n",
      " (2, 4, 3, 5)\n",
      "-------------------------------------------------------------------------\n",
      "Tensor[0][1][2][3]:\n",
      " 0.8298084139823914\n",
      "NdArray[0][1][2][3]:\n",
      " 0.829808\n",
      "-------------------------------------------------------------------------\n",
      "Tensor[0, 1, 2, 3]:\n",
      " 0.8298084139823914\n",
      "NdArray[0, 1, 2, 3]:\n",
      " 0.829808\n",
      "-------------------------------------------------------------------------\n",
      "Tensor[0][1]:\n",
      " \n",
      " 0.7094  0.3178  0.9071  0.5035  0.2032\n",
      " 0.9533  0.7225  0.3106  0.6425  0.1594\n",
      " 0.6849  0.3640  0.7304  0.8298  0.3114\n",
      "[torch.FloatTensor of size 3x5]\n",
      "\n",
      "NdArray[0][1]:\n",
      " [[ 0.70938146  0.31781477  0.907121    0.50354886  0.20322084]\n",
      " [ 0.95334393  0.72249353  0.31060135  0.64249557  0.15935552]\n",
      " [ 0.68485779  0.36396331  0.73043436  0.82980841  0.31143939]]\n",
      "-------------------------------------------------------------------------\n",
      "Tensor[0, 1:3]:\n",
      " \n",
      "(0 ,.,.) = \n",
      "  0.7094  0.3178  0.9071  0.5035  0.2032\n",
      "  0.9533  0.7225  0.3106  0.6425  0.1594\n",
      "  0.6849  0.3640  0.7304  0.8298  0.3114\n",
      "\n",
      "(1 ,.,.) = \n",
      "  0.5726  0.1185  0.8974  0.1053  0.9073\n",
      "  0.5831  0.8008  0.8334  0.8271  0.6497\n",
      "  0.3021  0.4453  0.0228  0.4584  0.2826\n",
      "[torch.FloatTensor of size 2x3x5]\n",
      "\n",
      "NdArray[0, 1:3]:\n",
      " [[[ 0.70938146  0.31781477  0.907121    0.50354886  0.20322084]\n",
      "  [ 0.95334393  0.72249353  0.31060135  0.64249557  0.15935552]\n",
      "  [ 0.68485779  0.36396331  0.73043436  0.82980841  0.31143939]]\n",
      "\n",
      " [[ 0.57257104  0.11845613  0.89735049  0.10529613  0.90726137]\n",
      "  [ 0.58307266  0.80075842  0.83340126  0.82707107  0.64966112]\n",
      "  [ 0.30205137  0.44531345  0.02282685  0.45841444  0.28259504]]]\n",
      "-------------------------------------------------------------------------\n"
     ]
    }
   ],
   "source": [
    "print ('Tensor size:\\n', t.size())\n",
    "print ('NdArray size:\\n', a.shape)\n",
    "print ('-------------------------------------------------------------------------')\n",
    "\n",
    "print ('Tensor[0][1][2][3]:\\n', t[0][1][2][3])\n",
    "print ('NdArray[0][1][2][3]:\\n', a[0][1][2][3])\n",
    "print ('-------------------------------------------------------------------------')\n",
    "\n",
    "print ('Tensor[0, 1, 2, 3]:\\n', t[0, 1, 2, 3])\n",
    "print ('NdArray[0, 1, 2, 3]:\\n', a[0, 1, 2, 3])\n",
    "print ('-------------------------------------------------------------------------')\n",
    "\n",
    "print ('Tensor[0][1]:\\n', t[0][1])\n",
    "print ('NdArray[0][1]:\\n', a[0][1])\n",
    "print ('-------------------------------------------------------------------------')\n",
    "\n",
    "print ('Tensor[0, 1:3]:\\n', t[0, 1:3])\n",
    "print ('NdArray[0, 1:3]:\\n', a[0, 1:3])\n",
    "print ('-------------------------------------------------------------------------')"
   ]
  },
  {
   "cell_type": "markdown",
   "metadata": {
    "slideshow": {
     "slide_type": "fragment"
    }
   },
   "source": [
    "#### 3. Tensor masking"
   ]
  },
  {
   "cell_type": "code",
   "execution_count": 12,
   "metadata": {
    "slideshow": {
     "slide_type": "skip"
    }
   },
   "outputs": [
    {
     "name": "stdout",
     "output_type": "stream",
     "text": [
      "Tensor:\n",
      " \n",
      "(0 ,0 ,.,.) = \n",
      " -0.2647 -0.1060  0.0236 -0.4035  0.2462\n",
      "  0.3047  0.2706  0.2035  0.3961  0.1226\n",
      " -0.4476 -0.2612  0.1801 -0.2483  0.2626\n",
      "\n",
      "(0 ,1 ,.,.) = \n",
      "  0.2094 -0.1822  0.4071  0.0035 -0.2968\n",
      "  0.4533  0.2225 -0.1894  0.1425 -0.3406\n",
      "  0.1849 -0.1360  0.2304  0.3298 -0.1886\n",
      "\n",
      "(0 ,2 ,.,.) = \n",
      "  0.0726 -0.3815  0.3974 -0.3947  0.4073\n",
      "  0.0831  0.3008  0.3334  0.3271  0.1497\n",
      " -0.1979 -0.0547 -0.4772 -0.0416 -0.2174\n",
      "\n",
      "(0 ,3 ,.,.) = \n",
      "  0.0222 -0.1613  0.1303  0.4214 -0.0762\n",
      " -0.4819  0.0255 -0.3986  0.4714  0.3173\n",
      " -0.2365  0.2258 -0.3924 -0.3041 -0.4197\n",
      "\n",
      "(1 ,0 ,.,.) = \n",
      " -0.1854  0.3596  0.0384  0.0301 -0.2741\n",
      "  0.0644 -0.0946  0.1867 -0.1551 -0.3945\n",
      " -0.1904  0.4881 -0.4991  0.2668 -0.3302\n",
      "\n",
      "(1 ,1 ,.,.) = \n",
      "  0.0302  0.2687 -0.0761 -0.3031  0.4981\n",
      " -0.0211 -0.3090 -0.0203 -0.3383 -0.3390\n",
      "  0.1330  0.1916  0.4095  0.0786 -0.0076\n",
      "\n",
      "(1 ,2 ,.,.) = \n",
      " -0.3108  0.1991 -0.1987  0.2681  0.2045\n",
      " -0.2080  0.0094 -0.0369  0.1119 -0.1957\n",
      " -0.0062  0.0368 -0.1161  0.3246 -0.0456\n",
      "\n",
      "(1 ,3 ,.,.) = \n",
      "  0.2249 -0.0165  0.0392  0.1014 -0.0253\n",
      " -0.0266 -0.4185 -0.3483  0.0613  0.0622\n",
      "  0.0787 -0.0433  0.2078  0.4083 -0.4287\n",
      "[torch.FloatTensor of size 2x4x3x5]\n",
      "\n",
      "NdArray:\n",
      " [[[[-0.26473385 -0.10599846  0.02359951 -0.40346783  0.24622548]\n",
      "   [ 0.30468386  0.27055192  0.20346302  0.39606267  0.1226058 ]\n",
      "   [-0.44760805 -0.2611528   0.18006313 -0.24834627  0.26259416]]\n",
      "\n",
      "  [[ 0.20938146 -0.18218523  0.407121    0.00354886 -0.29677916]\n",
      "   [ 0.45334393  0.22249353 -0.18939865  0.14249557 -0.34064448]\n",
      "   [ 0.18485779 -0.13603669  0.23043436  0.32980841 -0.18856061]]\n",
      "\n",
      "  [[ 0.07257104 -0.38154387  0.39735049 -0.39470387  0.40726137]\n",
      "   [ 0.08307266  0.30075842  0.33340126  0.32707107  0.14966112]\n",
      "   [-0.19794863 -0.05468655 -0.47717315 -0.04158556 -0.21740496]]\n",
      "\n",
      "  [[ 0.02217752 -0.16133773  0.13030297  0.42136651 -0.07617265]\n",
      "   [-0.48187208  0.02552801 -0.39860153  0.471434    0.31727278]\n",
      "   [-0.23648608  0.22581762 -0.39241904 -0.30407482 -0.41972762]]]\n",
      "\n",
      "\n",
      " [[[-0.18536764  0.3596428   0.03838372  0.03009212 -0.27410674]\n",
      "   [ 0.06441158 -0.09458035  0.18665463 -0.15511376 -0.39448029]\n",
      "   [-0.19038469  0.48812699 -0.49910533  0.26682872 -0.33016622]]\n",
      "\n",
      "  [[ 0.03023112  0.26867622 -0.07614565 -0.30307263  0.49813789]\n",
      "   [-0.02113414 -0.30901808 -0.02026302 -0.3382709  -0.33895171]\n",
      "   [ 0.13302183  0.1916281   0.40950876  0.07861388 -0.00760245]]\n",
      "\n",
      "  [[-0.31075788  0.19909972 -0.1987468   0.2681073   0.20451814]\n",
      "   [-0.20804554  0.0094291  -0.03685427  0.1119343  -0.19566315]\n",
      "   [-0.00623393  0.03681374 -0.1161232   0.32462847 -0.04561669]]\n",
      "\n",
      "  [[ 0.22494757 -0.01653254  0.03922915  0.10144836 -0.02526671]\n",
      "   [-0.02657235 -0.41850048 -0.34828889  0.06128663  0.06216729]\n",
      "   [ 0.078668   -0.0433138   0.20778757  0.40827787 -0.42870182]]]]\n",
      "-------------------------------------------------------------------------\n"
     ]
    }
   ],
   "source": [
    "t = t - 0.5\n",
    "a = t.numpy()\n",
    "\n",
    "print ('Tensor:\\n', t)\n",
    "print ('NdArray:\\n', a)\n",
    "print ('-------------------------------------------------------------------------')"
   ]
  },
  {
   "cell_type": "code",
   "execution_count": 13,
   "metadata": {
    "collapsed": true,
    "slideshow": {
     "slide_type": "fragment"
    }
   },
   "outputs": [],
   "source": [
    "pytorch_masked = t[t > 0]\n",
    "numpy_masked = a[a > 0]"
   ]
  },
  {
   "cell_type": "code",
   "execution_count": 14,
   "metadata": {
    "slideshow": {
     "slide_type": "skip"
    }
   },
   "outputs": [
    {
     "name": "stdout",
     "output_type": "stream",
     "text": [
      "Tensor[Tensor > 0]:\n",
      " \n",
      " 0.0236\n",
      " 0.2462\n",
      " 0.3047\n",
      " 0.2706\n",
      " 0.2035\n",
      " 0.3961\n",
      " 0.1226\n",
      " 0.1801\n",
      " 0.2626\n",
      " 0.2094\n",
      " 0.4071\n",
      " 0.0035\n",
      " 0.4533\n",
      " 0.2225\n",
      " 0.1425\n",
      " 0.1849\n",
      " 0.2304\n",
      " 0.3298\n",
      " 0.0726\n",
      " 0.3974\n",
      " 0.4073\n",
      " 0.0831\n",
      " 0.3008\n",
      " 0.3334\n",
      " 0.3271\n",
      " 0.1497\n",
      " 0.0222\n",
      " 0.1303\n",
      " 0.4214\n",
      " 0.0255\n",
      " 0.4714\n",
      " 0.3173\n",
      " 0.2258\n",
      " 0.3596\n",
      " 0.0384\n",
      " 0.0301\n",
      " 0.0644\n",
      " 0.1867\n",
      " 0.4881\n",
      " 0.2668\n",
      " 0.0302\n",
      " 0.2687\n",
      " 0.4981\n",
      " 0.1330\n",
      " 0.1916\n",
      " 0.4095\n",
      " 0.0786\n",
      " 0.1991\n",
      " 0.2681\n",
      " 0.2045\n",
      " 0.0094\n",
      " 0.1119\n",
      " 0.0368\n",
      " 0.3246\n",
      " 0.2249\n",
      " 0.0392\n",
      " 0.1014\n",
      " 0.0613\n",
      " 0.0622\n",
      " 0.0787\n",
      " 0.2078\n",
      " 0.4083\n",
      "[torch.FloatTensor of size 62]\n",
      "\n",
      "NdArray[NdArray > 0]:\n",
      " [ 0.02359951  0.24622548  0.30468386  0.27055192  0.20346302  0.39606267\n",
      "  0.1226058   0.18006313  0.26259416  0.20938146  0.407121    0.00354886\n",
      "  0.45334393  0.22249353  0.14249557  0.18485779  0.23043436  0.32980841\n",
      "  0.07257104  0.39735049  0.40726137  0.08307266  0.30075842  0.33340126\n",
      "  0.32707107  0.14966112  0.02217752  0.13030297  0.42136651  0.02552801\n",
      "  0.471434    0.31727278  0.22581762  0.3596428   0.03838372  0.03009212\n",
      "  0.06441158  0.18665463  0.48812699  0.26682872  0.03023112  0.26867622\n",
      "  0.49813789  0.13302183  0.1916281   0.40950876  0.07861388  0.19909972\n",
      "  0.2681073   0.20451814  0.0094291   0.1119343   0.03681374  0.32462847\n",
      "  0.22494757  0.03922915  0.10144836  0.06128663  0.06216729  0.078668\n",
      "  0.20778757  0.40827787]\n",
      "-------------------------------------------------------------------------\n"
     ]
    }
   ],
   "source": [
    "print ('Tensor[Tensor > 0]:\\n', pytorch_masked)\n",
    "print ('NdArray[NdArray > 0]:\\n', numpy_masked)\n",
    "print ('-------------------------------------------------------------------------')"
   ]
  },
  {
   "cell_type": "markdown",
   "metadata": {
    "slideshow": {
     "slide_type": "skip"
    }
   },
   "source": [
    "Below you can see how conditioning works with PyTorch, and how array size is changed after that."
   ]
  },
  {
   "cell_type": "code",
   "execution_count": 15,
   "metadata": {
    "slideshow": {
     "slide_type": "skip"
    }
   },
   "outputs": [
    {
     "name": "stdout",
     "output_type": "stream",
     "text": [
      "Tensor > 0:\n",
      " \n",
      "(0 ,0 ,.,.) = \n",
      "  0  0  1  0  1\n",
      "  1  1  1  1  1\n",
      "  0  0  1  0  1\n",
      "\n",
      "(0 ,1 ,.,.) = \n",
      "  1  0  1  1  0\n",
      "  1  1  0  1  0\n",
      "  1  0  1  1  0\n",
      "\n",
      "(0 ,2 ,.,.) = \n",
      "  1  0  1  0  1\n",
      "  1  1  1  1  1\n",
      "  0  0  0  0  0\n",
      "\n",
      "(0 ,3 ,.,.) = \n",
      "  1  0  1  1  0\n",
      "  0  1  0  1  1\n",
      "  0  1  0  0  0\n",
      "\n",
      "(1 ,0 ,.,.) = \n",
      "  0  1  1  1  0\n",
      "  1  0  1  0  0\n",
      "  0  1  0  1  0\n",
      "\n",
      "(1 ,1 ,.,.) = \n",
      "  1  1  0  0  1\n",
      "  0  0  0  0  0\n",
      "  1  1  1  1  0\n",
      "\n",
      "(1 ,2 ,.,.) = \n",
      "  0  1  0  1  1\n",
      "  0  1  0  1  0\n",
      "  0  1  0  1  0\n",
      "\n",
      "(1 ,3 ,.,.) = \n",
      "  1  0  1  1  0\n",
      "  0  0  0  1  1\n",
      "  1  0  1  1  0\n",
      "[torch.ByteTensor of size 2x4x3x5]\n",
      "\n",
      "NdArray > 0:\n",
      " [[[[False False  True False  True]\n",
      "   [ True  True  True  True  True]\n",
      "   [False False  True False  True]]\n",
      "\n",
      "  [[ True False  True  True False]\n",
      "   [ True  True False  True False]\n",
      "   [ True False  True  True False]]\n",
      "\n",
      "  [[ True False  True False  True]\n",
      "   [ True  True  True  True  True]\n",
      "   [False False False False False]]\n",
      "\n",
      "  [[ True False  True  True False]\n",
      "   [False  True False  True  True]\n",
      "   [False  True False False False]]]\n",
      "\n",
      "\n",
      " [[[False  True  True  True False]\n",
      "   [ True False  True False False]\n",
      "   [False  True False  True False]]\n",
      "\n",
      "  [[ True  True False False  True]\n",
      "   [False False False False False]\n",
      "   [ True  True  True  True False]]\n",
      "\n",
      "  [[False  True False  True  True]\n",
      "   [False  True False  True False]\n",
      "   [False  True False  True False]]\n",
      "\n",
      "  [[ True False  True  True False]\n",
      "   [False False False  True  True]\n",
      "   [ True False  True  True False]]]]\n",
      "-------------------------------------------------------------------------\n",
      "Tensor[Tensor > 0]:\n",
      " \n",
      " 0.0236\n",
      " 0.2462\n",
      " 0.3047\n",
      " 0.2706\n",
      " 0.2035\n",
      " 0.3961\n",
      " 0.1226\n",
      " 0.1801\n",
      " 0.2626\n",
      " 0.2094\n",
      " 0.4071\n",
      " 0.0035\n",
      " 0.4533\n",
      " 0.2225\n",
      " 0.1425\n",
      " 0.1849\n",
      " 0.2304\n",
      " 0.3298\n",
      " 0.0726\n",
      " 0.3974\n",
      " 0.4073\n",
      " 0.0831\n",
      " 0.3008\n",
      " 0.3334\n",
      " 0.3271\n",
      " 0.1497\n",
      " 0.0222\n",
      " 0.1303\n",
      " 0.4214\n",
      " 0.0255\n",
      " 0.4714\n",
      " 0.3173\n",
      " 0.2258\n",
      " 0.3596\n",
      " 0.0384\n",
      " 0.0301\n",
      " 0.0644\n",
      " 0.1867\n",
      " 0.4881\n",
      " 0.2668\n",
      " 0.0302\n",
      " 0.2687\n",
      " 0.4981\n",
      " 0.1330\n",
      " 0.1916\n",
      " 0.4095\n",
      " 0.0786\n",
      " 0.1991\n",
      " 0.2681\n",
      " 0.2045\n",
      " 0.0094\n",
      " 0.1119\n",
      " 0.0368\n",
      " 0.3246\n",
      " 0.2249\n",
      " 0.0392\n",
      " 0.1014\n",
      " 0.0613\n",
      " 0.0622\n",
      " 0.0787\n",
      " 0.2078\n",
      " 0.4083\n",
      "[torch.FloatTensor of size 62]\n",
      "\n",
      "NdArray[NdArray > 0]:\n",
      " [ 0.02359951  0.24622548  0.30468386  0.27055192  0.20346302  0.39606267\n",
      "  0.1226058   0.18006313  0.26259416  0.20938146  0.407121    0.00354886\n",
      "  0.45334393  0.22249353  0.14249557  0.18485779  0.23043436  0.32980841\n",
      "  0.07257104  0.39735049  0.40726137  0.08307266  0.30075842  0.33340126\n",
      "  0.32707107  0.14966112  0.02217752  0.13030297  0.42136651  0.02552801\n",
      "  0.471434    0.31727278  0.22581762  0.3596428   0.03838372  0.03009212\n",
      "  0.06441158  0.18665463  0.48812699  0.26682872  0.03023112  0.26867622\n",
      "  0.49813789  0.13302183  0.1916281   0.40950876  0.07861388  0.19909972\n",
      "  0.2681073   0.20451814  0.0094291   0.1119343   0.03681374  0.32462847\n",
      "  0.22494757  0.03922915  0.10144836  0.06128663  0.06216729  0.078668\n",
      "  0.20778757  0.40827787]\n",
      "-------------------------------------------------------------------------\n",
      "Size of Tensor[Tensor > 0]:\n",
      " torch.Size([62])\n",
      "Size of NdArray[NdArray > 0]:\n",
      " (62,)\n",
      "-------------------------------------------------------------------------\n"
     ]
    }
   ],
   "source": [
    "print ('Tensor > 0:\\n', t > 0)\n",
    "print ('NdArray > 0:\\n', a > 0)\n",
    "print ('-------------------------------------------------------------------------')\n",
    "\n",
    "print ('Tensor[Tensor > 0]:\\n', t[t > 0])\n",
    "print ('NdArray[NdArray > 0]:\\n', a[a > 0])\n",
    "print ('-------------------------------------------------------------------------')\n",
    "\n",
    "print ('Size of Tensor[Tensor > 0]:\\n', t[t > 0].size())\n",
    "print ('Size of NdArray[NdArray > 0]:\\n', a[a > 0].shape)\n",
    "print ('-------------------------------------------------------------------------')"
   ]
  },
  {
   "cell_type": "markdown",
   "metadata": {
    "slideshow": {
     "slide_type": "fragment"
    }
   },
   "source": [
    "#### 4. Tensor reshaping"
   ]
  },
  {
   "cell_type": "code",
   "execution_count": 16,
   "metadata": {
    "slideshow": {
     "slide_type": "skip"
    }
   },
   "outputs": [
    {
     "name": "stdout",
     "output_type": "stream",
     "text": [
      "Tensor:\n",
      " \n",
      "(0 ,0 ,.,.) = \n",
      " -0.2647 -0.1060  0.0236 -0.4035  0.2462\n",
      "  0.3047  0.2706  0.2035  0.3961  0.1226\n",
      " -0.4476 -0.2612  0.1801 -0.2483  0.2626\n",
      "\n",
      "(0 ,1 ,.,.) = \n",
      "  0.2094 -0.1822  0.4071  0.0035 -0.2968\n",
      "  0.4533  0.2225 -0.1894  0.1425 -0.3406\n",
      "  0.1849 -0.1360  0.2304  0.3298 -0.1886\n",
      "\n",
      "(0 ,2 ,.,.) = \n",
      "  0.0726 -0.3815  0.3974 -0.3947  0.4073\n",
      "  0.0831  0.3008  0.3334  0.3271  0.1497\n",
      " -0.1979 -0.0547 -0.4772 -0.0416 -0.2174\n",
      "\n",
      "(0 ,3 ,.,.) = \n",
      "  0.0222 -0.1613  0.1303  0.4214 -0.0762\n",
      " -0.4819  0.0255 -0.3986  0.4714  0.3173\n",
      " -0.2365  0.2258 -0.3924 -0.3041 -0.4197\n",
      "\n",
      "(1 ,0 ,.,.) = \n",
      " -0.1854  0.3596  0.0384  0.0301 -0.2741\n",
      "  0.0644 -0.0946  0.1867 -0.1551 -0.3945\n",
      " -0.1904  0.4881 -0.4991  0.2668 -0.3302\n",
      "\n",
      "(1 ,1 ,.,.) = \n",
      "  0.0302  0.2687 -0.0761 -0.3031  0.4981\n",
      " -0.0211 -0.3090 -0.0203 -0.3383 -0.3390\n",
      "  0.1330  0.1916  0.4095  0.0786 -0.0076\n",
      "\n",
      "(1 ,2 ,.,.) = \n",
      " -0.3108  0.1991 -0.1987  0.2681  0.2045\n",
      " -0.2080  0.0094 -0.0369  0.1119 -0.1957\n",
      " -0.0062  0.0368 -0.1161  0.3246 -0.0456\n",
      "\n",
      "(1 ,3 ,.,.) = \n",
      "  0.2249 -0.0165  0.0392  0.1014 -0.0253\n",
      " -0.0266 -0.4185 -0.3483  0.0613  0.0622\n",
      "  0.0787 -0.0433  0.2078  0.4083 -0.4287\n",
      "[torch.FloatTensor of size 2x4x3x5]\n",
      "\n",
      "NdArray:\n",
      " [[[[-0.26473385 -0.10599846  0.02359951 -0.40346783  0.24622548]\n",
      "   [ 0.30468386  0.27055192  0.20346302  0.39606267  0.1226058 ]\n",
      "   [-0.44760805 -0.2611528   0.18006313 -0.24834627  0.26259416]]\n",
      "\n",
      "  [[ 0.20938146 -0.18218523  0.407121    0.00354886 -0.29677916]\n",
      "   [ 0.45334393  0.22249353 -0.18939865  0.14249557 -0.34064448]\n",
      "   [ 0.18485779 -0.13603669  0.23043436  0.32980841 -0.18856061]]\n",
      "\n",
      "  [[ 0.07257104 -0.38154387  0.39735049 -0.39470387  0.40726137]\n",
      "   [ 0.08307266  0.30075842  0.33340126  0.32707107  0.14966112]\n",
      "   [-0.19794863 -0.05468655 -0.47717315 -0.04158556 -0.21740496]]\n",
      "\n",
      "  [[ 0.02217752 -0.16133773  0.13030297  0.42136651 -0.07617265]\n",
      "   [-0.48187208  0.02552801 -0.39860153  0.471434    0.31727278]\n",
      "   [-0.23648608  0.22581762 -0.39241904 -0.30407482 -0.41972762]]]\n",
      "\n",
      "\n",
      " [[[-0.18536764  0.3596428   0.03838372  0.03009212 -0.27410674]\n",
      "   [ 0.06441158 -0.09458035  0.18665463 -0.15511376 -0.39448029]\n",
      "   [-0.19038469  0.48812699 -0.49910533  0.26682872 -0.33016622]]\n",
      "\n",
      "  [[ 0.03023112  0.26867622 -0.07614565 -0.30307263  0.49813789]\n",
      "   [-0.02113414 -0.30901808 -0.02026302 -0.3382709  -0.33895171]\n",
      "   [ 0.13302183  0.1916281   0.40950876  0.07861388 -0.00760245]]\n",
      "\n",
      "  [[-0.31075788  0.19909972 -0.1987468   0.2681073   0.20451814]\n",
      "   [-0.20804554  0.0094291  -0.03685427  0.1119343  -0.19566315]\n",
      "   [-0.00623393  0.03681374 -0.1161232   0.32462847 -0.04561669]]\n",
      "\n",
      "  [[ 0.22494757 -0.01653254  0.03922915  0.10144836 -0.02526671]\n",
      "   [-0.02657235 -0.41850048 -0.34828889  0.06128663  0.06216729]\n",
      "   [ 0.078668   -0.0433138   0.20778757  0.40827787 -0.42870182]]]]\n",
      "-------------------------------------------------------------------------\n"
     ]
    }
   ],
   "source": [
    "print ('Tensor:\\n', t)\n",
    "print ('NdArray:\\n', a)\n",
    "print ('-------------------------------------------------------------------------')"
   ]
  },
  {
   "cell_type": "code",
   "execution_count": 17,
   "metadata": {
    "collapsed": true,
    "slideshow": {
     "slide_type": "fragment"
    }
   },
   "outputs": [],
   "source": [
    "pytorch_reshape = t.view([6, 5, 4])\n",
    "numpy_reshape = a.reshape([6, 5, 4])"
   ]
  },
  {
   "cell_type": "code",
   "execution_count": 18,
   "metadata": {
    "slideshow": {
     "slide_type": "skip"
    }
   },
   "outputs": [
    {
     "name": "stdout",
     "output_type": "stream",
     "text": [
      "Tensor reshaped to (6:5:4):\n",
      " \n",
      "(0 ,.,.) = \n",
      " -0.2647 -0.1060  0.0236 -0.4035\n",
      "  0.2462  0.3047  0.2706  0.2035\n",
      "  0.3961  0.1226 -0.4476 -0.2612\n",
      "  0.1801 -0.2483  0.2626  0.2094\n",
      " -0.1822  0.4071  0.0035 -0.2968\n",
      "\n",
      "(1 ,.,.) = \n",
      "  0.4533  0.2225 -0.1894  0.1425\n",
      " -0.3406  0.1849 -0.1360  0.2304\n",
      "  0.3298 -0.1886  0.0726 -0.3815\n",
      "  0.3974 -0.3947  0.4073  0.0831\n",
      "  0.3008  0.3334  0.3271  0.1497\n",
      "\n",
      "(2 ,.,.) = \n",
      " -0.1979 -0.0547 -0.4772 -0.0416\n",
      " -0.2174  0.0222 -0.1613  0.1303\n",
      "  0.4214 -0.0762 -0.4819  0.0255\n",
      " -0.3986  0.4714  0.3173 -0.2365\n",
      "  0.2258 -0.3924 -0.3041 -0.4197\n",
      "\n",
      "(3 ,.,.) = \n",
      " -0.1854  0.3596  0.0384  0.0301\n",
      " -0.2741  0.0644 -0.0946  0.1867\n",
      " -0.1551 -0.3945 -0.1904  0.4881\n",
      " -0.4991  0.2668 -0.3302  0.0302\n",
      "  0.2687 -0.0761 -0.3031  0.4981\n",
      "\n",
      "(4 ,.,.) = \n",
      " -0.0211 -0.3090 -0.0203 -0.3383\n",
      " -0.3390  0.1330  0.1916  0.4095\n",
      "  0.0786 -0.0076 -0.3108  0.1991\n",
      " -0.1987  0.2681  0.2045 -0.2080\n",
      "  0.0094 -0.0369  0.1119 -0.1957\n",
      "\n",
      "(5 ,.,.) = \n",
      " -0.0062  0.0368 -0.1161  0.3246\n",
      " -0.0456  0.2249 -0.0165  0.0392\n",
      "  0.1014 -0.0253 -0.0266 -0.4185\n",
      " -0.3483  0.0613  0.0622  0.0787\n",
      " -0.0433  0.2078  0.4083 -0.4287\n",
      "[torch.FloatTensor of size 6x5x4]\n",
      "\n",
      "NdArray reshaped to (6:5:4):\n",
      " [[[-0.26473385 -0.10599846  0.02359951 -0.40346783]\n",
      "  [ 0.24622548  0.30468386  0.27055192  0.20346302]\n",
      "  [ 0.39606267  0.1226058  -0.44760805 -0.2611528 ]\n",
      "  [ 0.18006313 -0.24834627  0.26259416  0.20938146]\n",
      "  [-0.18218523  0.407121    0.00354886 -0.29677916]]\n",
      "\n",
      " [[ 0.45334393  0.22249353 -0.18939865  0.14249557]\n",
      "  [-0.34064448  0.18485779 -0.13603669  0.23043436]\n",
      "  [ 0.32980841 -0.18856061  0.07257104 -0.38154387]\n",
      "  [ 0.39735049 -0.39470387  0.40726137  0.08307266]\n",
      "  [ 0.30075842  0.33340126  0.32707107  0.14966112]]\n",
      "\n",
      " [[-0.19794863 -0.05468655 -0.47717315 -0.04158556]\n",
      "  [-0.21740496  0.02217752 -0.16133773  0.13030297]\n",
      "  [ 0.42136651 -0.07617265 -0.48187208  0.02552801]\n",
      "  [-0.39860153  0.471434    0.31727278 -0.23648608]\n",
      "  [ 0.22581762 -0.39241904 -0.30407482 -0.41972762]]\n",
      "\n",
      " [[-0.18536764  0.3596428   0.03838372  0.03009212]\n",
      "  [-0.27410674  0.06441158 -0.09458035  0.18665463]\n",
      "  [-0.15511376 -0.39448029 -0.19038469  0.48812699]\n",
      "  [-0.49910533  0.26682872 -0.33016622  0.03023112]\n",
      "  [ 0.26867622 -0.07614565 -0.30307263  0.49813789]]\n",
      "\n",
      " [[-0.02113414 -0.30901808 -0.02026302 -0.3382709 ]\n",
      "  [-0.33895171  0.13302183  0.1916281   0.40950876]\n",
      "  [ 0.07861388 -0.00760245 -0.31075788  0.19909972]\n",
      "  [-0.1987468   0.2681073   0.20451814 -0.20804554]\n",
      "  [ 0.0094291  -0.03685427  0.1119343  -0.19566315]]\n",
      "\n",
      " [[-0.00623393  0.03681374 -0.1161232   0.32462847]\n",
      "  [-0.04561669  0.22494757 -0.01653254  0.03922915]\n",
      "  [ 0.10144836 -0.02526671 -0.02657235 -0.41850048]\n",
      "  [-0.34828889  0.06128663  0.06216729  0.078668  ]\n",
      "  [-0.0433138   0.20778757  0.40827787 -0.42870182]]]\n",
      "-------------------------------------------------------------------------\n"
     ]
    }
   ],
   "source": [
    "print ('Tensor reshaped to (6:5:4):\\n', pytorch_reshape)\n",
    "print ('NdArray reshaped to (6:5:4):\\n',numpy_reshape)\n",
    "print ('-------------------------------------------------------------------------')"
   ]
  },
  {
   "cell_type": "markdown",
   "metadata": {
    "slideshow": {
     "slide_type": "skip"
    }
   },
   "source": [
    "You can also see a permutation example below."
   ]
  },
  {
   "cell_type": "code",
   "execution_count": 19,
   "metadata": {
    "scrolled": true,
    "slideshow": {
     "slide_type": "skip"
    }
   },
   "outputs": [
    {
     "name": "stdout",
     "output_type": "stream",
     "text": [
      "Tensor with dimensions transposed as (1, 0, 2):\n",
      " \n",
      "(0 ,.,.) = \n",
      " -0.2647 -0.1060  0.0236 -0.4035\n",
      "  0.4533  0.2225 -0.1894  0.1425\n",
      " -0.1979 -0.0547 -0.4772 -0.0416\n",
      " -0.1854  0.3596  0.0384  0.0301\n",
      " -0.0211 -0.3090 -0.0203 -0.3383\n",
      " -0.0062  0.0368 -0.1161  0.3246\n",
      "\n",
      "(1 ,.,.) = \n",
      "  0.2462  0.3047  0.2706  0.2035\n",
      " -0.3406  0.1849 -0.1360  0.2304\n",
      " -0.2174  0.0222 -0.1613  0.1303\n",
      " -0.2741  0.0644 -0.0946  0.1867\n",
      " -0.3390  0.1330  0.1916  0.4095\n",
      " -0.0456  0.2249 -0.0165  0.0392\n",
      "\n",
      "(2 ,.,.) = \n",
      "  0.3961  0.1226 -0.4476 -0.2612\n",
      "  0.3298 -0.1886  0.0726 -0.3815\n",
      "  0.4214 -0.0762 -0.4819  0.0255\n",
      " -0.1551 -0.3945 -0.1904  0.4881\n",
      "  0.0786 -0.0076 -0.3108  0.1991\n",
      "  0.1014 -0.0253 -0.0266 -0.4185\n",
      "\n",
      "(3 ,.,.) = \n",
      "  0.1801 -0.2483  0.2626  0.2094\n",
      "  0.3974 -0.3947  0.4073  0.0831\n",
      " -0.3986  0.4714  0.3173 -0.2365\n",
      " -0.4991  0.2668 -0.3302  0.0302\n",
      " -0.1987  0.2681  0.2045 -0.2080\n",
      " -0.3483  0.0613  0.0622  0.0787\n",
      "\n",
      "(4 ,.,.) = \n",
      " -0.1822  0.4071  0.0035 -0.2968\n",
      "  0.3008  0.3334  0.3271  0.1497\n",
      "  0.2258 -0.3924 -0.3041 -0.4197\n",
      "  0.2687 -0.0761 -0.3031  0.4981\n",
      "  0.0094 -0.0369  0.1119 -0.1957\n",
      " -0.0433  0.2078  0.4083 -0.4287\n",
      "[torch.FloatTensor of size 5x6x4]\n",
      "\n",
      "NdArray with dimensions transposed as (1, 0, 2):\n",
      " [[[-0.26473385 -0.10599846  0.02359951 -0.40346783]\n",
      "  [ 0.45334393  0.22249353 -0.18939865  0.14249557]\n",
      "  [-0.19794863 -0.05468655 -0.47717315 -0.04158556]\n",
      "  [-0.18536764  0.3596428   0.03838372  0.03009212]\n",
      "  [-0.02113414 -0.30901808 -0.02026302 -0.3382709 ]\n",
      "  [-0.00623393  0.03681374 -0.1161232   0.32462847]]\n",
      "\n",
      " [[ 0.24622548  0.30468386  0.27055192  0.20346302]\n",
      "  [-0.34064448  0.18485779 -0.13603669  0.23043436]\n",
      "  [-0.21740496  0.02217752 -0.16133773  0.13030297]\n",
      "  [-0.27410674  0.06441158 -0.09458035  0.18665463]\n",
      "  [-0.33895171  0.13302183  0.1916281   0.40950876]\n",
      "  [-0.04561669  0.22494757 -0.01653254  0.03922915]]\n",
      "\n",
      " [[ 0.39606267  0.1226058  -0.44760805 -0.2611528 ]\n",
      "  [ 0.32980841 -0.18856061  0.07257104 -0.38154387]\n",
      "  [ 0.42136651 -0.07617265 -0.48187208  0.02552801]\n",
      "  [-0.15511376 -0.39448029 -0.19038469  0.48812699]\n",
      "  [ 0.07861388 -0.00760245 -0.31075788  0.19909972]\n",
      "  [ 0.10144836 -0.02526671 -0.02657235 -0.41850048]]\n",
      "\n",
      " [[ 0.18006313 -0.24834627  0.26259416  0.20938146]\n",
      "  [ 0.39735049 -0.39470387  0.40726137  0.08307266]\n",
      "  [-0.39860153  0.471434    0.31727278 -0.23648608]\n",
      "  [-0.49910533  0.26682872 -0.33016622  0.03023112]\n",
      "  [-0.1987468   0.2681073   0.20451814 -0.20804554]\n",
      "  [-0.34828889  0.06128663  0.06216729  0.078668  ]]\n",
      "\n",
      " [[-0.18218523  0.407121    0.00354886 -0.29677916]\n",
      "  [ 0.30075842  0.33340126  0.32707107  0.14966112]\n",
      "  [ 0.22581762 -0.39241904 -0.30407482 -0.41972762]\n",
      "  [ 0.26867622 -0.07614565 -0.30307263  0.49813789]\n",
      "  [ 0.0094291  -0.03685427  0.1119343  -0.19566315]\n",
      "  [-0.0433138   0.20778757  0.40827787 -0.42870182]]]\n",
      "-------------------------------------------------------------------------\n"
     ]
    }
   ],
   "source": [
    "\n",
    "print ('Tensor with dimensions transposed as (1, 0, 2):\\n', pytorch_reshape.permute(1, 0, 2) )\n",
    "print ('NdArray with dimensions transposed as (1, 0, 2):\\n', np.transpose(numpy_reshape, (1, 0, 2)))\n",
    "print ('-------------------------------------------------------------------------')\n"
   ]
  },
  {
   "cell_type": "markdown",
   "metadata": {
    "slideshow": {
     "slide_type": "slide"
    }
   },
   "source": [
    "## 1.3 PyTorch Variables\n",
    "\n",
    "* Thin **wrapper** around Tensor in PyTorch\n",
    "* Helps to build **computation graph**\n",
    "* Necessary part of **Autograd** - automatic differenciation library\n",
    "* Keeps gradients with respect to this Variable in **.grad**.\n",
    "<img src=\"images/variable.png\"/>"
   ]
  },
  {
   "cell_type": "markdown",
   "metadata": {
    "slideshow": {
     "slide_type": "slide"
    }
   },
   "source": [
    "## Computation Graph\n",
    "<img src=\"images/2_layer_NN.png\" style=\"width: 50%\"/>"
   ]
  },
  {
   "cell_type": "markdown",
   "metadata": {
    "slideshow": {
     "slide_type": "notes"
    }
   },
   "source": [
    "**Computation graphs and variables.** In PyTorch, a neural network is represented by a _computational graph_ composed of interconnected _variables_. PyTorch allows you to build the network model by constructing this graph in code; it then simplifies the process of estimating the weights of this model by, for example, automatically calculating gradients.\n",
    "\n",
    "For example, suppose we wish to build the following two-layer model.Let's start by creating variables for the tensor inputs $x$ and outputs $y$. We'll do so by wrapping a PyTorch `Tensor` inside a `Variable` object:"
   ]
  },
  {
   "cell_type": "code",
   "execution_count": 20,
   "metadata": {
    "collapsed": true,
    "slideshow": {
     "slide_type": "skip"
    }
   },
   "outputs": [],
   "source": [
    "from torch.autograd import Variable\n",
    "import torch.nn.functional as F\n",
    "\n",
    "x = Variable(torch.randn(4, 1), requires_grad=False)\n",
    "y = Variable(torch.randn(3, 1), requires_grad=False)"
   ]
  },
  {
   "cell_type": "markdown",
   "metadata": {
    "slideshow": {
     "slide_type": "notes"
    }
   },
   "source": [
    "We set requires_grad to True to say that we want the gradient to be computed automatically which will be used in backpropagation to optimize the weights."
   ]
  },
  {
   "cell_type": "markdown",
   "metadata": {
    "collapsed": true,
    "slideshow": {
     "slide_type": "notes"
    }
   },
   "source": [
    "Now we define the weights: "
   ]
  },
  {
   "cell_type": "code",
   "execution_count": 21,
   "metadata": {
    "collapsed": true,
    "slideshow": {
     "slide_type": "fragment"
    }
   },
   "outputs": [],
   "source": [
    "w1 = Variable(torch.randn(5, 4), requires_grad=True)\n",
    "w2 = Variable(torch.randn(3, 5), requires_grad=True)"
   ]
  },
  {
   "cell_type": "markdown",
   "metadata": {
    "slideshow": {
     "slide_type": "notes"
    }
   },
   "source": [
    "Train the model:"
   ]
  },
  {
   "cell_type": "code",
   "execution_count": 22,
   "metadata": {
    "collapsed": true,
    "slideshow": {
     "slide_type": "fragment"
    }
   },
   "outputs": [],
   "source": [
    "def model_forward(x):\n",
    "    return F.sigmoid(w2 @ F.sigmoid(w1 @ x))"
   ]
  },
  {
   "cell_type": "code",
   "execution_count": 23,
   "metadata": {
    "slideshow": {
     "slide_type": "skip"
    }
   },
   "outputs": [
    {
     "name": "stdout",
     "output_type": "stream",
     "text": [
      "Variable containing:\n",
      " 1.6068 -1.3304 -0.6717 -0.6097\n",
      "-0.3414 -0.5062 -0.2533  1.0260\n",
      "-0.0341 -1.2144 -1.5983 -0.1392\n",
      "-0.5473  0.0084  0.4054  0.0970\n",
      " 0.3596  0.5987 -0.0324  0.6116\n",
      "[torch.FloatTensor of size 5x4]\n",
      "\n",
      "torch.Size([5, 4])\n",
      "None\n"
     ]
    }
   ],
   "source": [
    "print (w1)\n",
    "print (w1.data.shape)\n",
    "print (w1.grad) # Initially, non-existent"
   ]
  },
  {
   "cell_type": "markdown",
   "metadata": {
    "slideshow": {
     "slide_type": "slide"
    }
   },
   "source": [
    "## 1.4 PyTorch: Backpropagation"
   ]
  },
  {
   "cell_type": "markdown",
   "metadata": {
    "slideshow": {
     "slide_type": "notes"
    }
   },
   "source": [
    "So, we have inputs and targets, we have our simple model's weights, now it's time to train them. And for this, we need three components: "
   ]
  },
  {
   "cell_type": "markdown",
   "metadata": {
    "slideshow": {
     "slide_type": "fragment"
    }
   },
   "source": [
    "**Loss** that describes how far our model from the target"
   ]
  },
  {
   "cell_type": "code",
   "execution_count": 24,
   "metadata": {
    "collapsed": true,
    "scrolled": true,
    "slideshow": {
     "slide_type": "fragment"
    }
   },
   "outputs": [],
   "source": [
    "import torch.nn as nn\n",
    "criterion = nn.MSELoss()"
   ]
  },
  {
   "cell_type": "markdown",
   "metadata": {
    "slideshow": {
     "slide_type": "fragment"
    }
   },
   "source": [
    "**Optimization algorithm** that we use to update the weight update, and"
   ]
  },
  {
   "cell_type": "code",
   "execution_count": 25,
   "metadata": {
    "collapsed": true,
    "slideshow": {
     "slide_type": "fragment"
    }
   },
   "outputs": [],
   "source": [
    "import torch.optim as optim\n",
    "optimizer = optim.SGD([w1, w2], lr=0.001)"
   ]
  },
  {
   "cell_type": "markdown",
   "metadata": {
    "slideshow": {
     "slide_type": "fragment"
    }
   },
   "source": [
    "**Backpropagation step**"
   ]
  },
  {
   "cell_type": "code",
   "execution_count": 26,
   "metadata": {
    "collapsed": true,
    "slideshow": {
     "slide_type": "fragment"
    }
   },
   "outputs": [],
   "source": [
    "for epoch in range(10):\n",
    "    loss = criterion(model_forward(x), y)\n",
    "    optimizer.zero_grad() # Zero-out previous gradients\n",
    "    loss.backward() # Compute new gradients\n",
    "    optimizer.step() # Apply these gradients"
   ]
  },
  {
   "cell_type": "code",
   "execution_count": 27,
   "metadata": {
    "scrolled": true,
    "slideshow": {
     "slide_type": "skip"
    }
   },
   "outputs": [
    {
     "name": "stdout",
     "output_type": "stream",
     "text": [
      "Variable containing:\n",
      " 1.6067 -1.3303 -0.6717 -0.6095\n",
      "-0.3414 -0.5062 -0.2533  1.0259\n",
      "-0.0340 -1.2145 -1.5983 -0.1396\n",
      "-0.5476  0.0085  0.4055  0.0976\n",
      " 0.3597  0.5986 -0.0324  0.6113\n",
      "[torch.FloatTensor of size 5x4]\n",
      "\n"
     ]
    }
   ],
   "source": [
    "print (w1)"
   ]
  },
  {
   "cell_type": "markdown",
   "metadata": {
    "slideshow": {
     "slide_type": "slide"
    }
   },
   "source": [
    "##  1.5 PyTorch CUDA interface"
   ]
  },
  {
   "cell_type": "markdown",
   "metadata": {
    "slideshow": {
     "slide_type": "notes"
    }
   },
   "source": [
    "One of the benefits of PyTorch is that it provides a CUDA interface for its tensor and autograd libraries. Using CUDA GPGPUs you can accelerate not onlu neural network training and inference, but also any other workload that maps to PyTorch tensors.\n",
    "\n",
    "You can check whether you have CUDA available in PyTorch by calling **torch.cuda.is_available()** function."
   ]
  },
  {
   "cell_type": "code",
   "execution_count": 28,
   "metadata": {
    "slideshow": {
     "slide_type": "fragment"
    }
   },
   "outputs": [
    {
     "name": "stdout",
     "output_type": "stream",
     "text": [
      "Great, you have a GPU!\n"
     ]
    }
   ],
   "source": [
    "cuda_gpu = torch.cuda.is_available()\n",
    "if (cuda_gpu):\n",
    "    print(\"Great, you have a GPU!\")\n",
    "else:\n",
    "    print(\"Life is short -- consider a GPU!\")\n"
   ]
  },
  {
   "cell_type": "markdown",
   "metadata": {
    "slideshow": {
     "slide_type": "fragment"
    }
   },
   "source": [
    "## .cuda()"
   ]
  },
  {
   "cell_type": "markdown",
   "metadata": {
    "slideshow": {
     "slide_type": "notes"
    }
   },
   "source": [
    "After that, accelerating you code with cuda is as easy as calling **.cuda()** on your tensors and models. If you call **.cuda()** on tensors, it will perform data transfer from CPU to CUDA GPU. If you call **.cuda()** on a model, it not only moves all its internal storage to GPU, but also maps the whole computational graph to GPU.\n",
    "\n",
    "To copy a tensor or a model back to CPU, for example in order to interface it with NumPy, you can call **.cpu()**."
   ]
  },
  {
   "cell_type": "markdown",
   "metadata": {
    "slideshow": {
     "slide_type": "skip"
    }
   },
   "source": [
    "**Spoiler**: if you don't have a cuda GPU, or it's not configured for PyTorch, the next two cells are going to fail without wrapping them into if statement or in try block."
   ]
  },
  {
   "cell_type": "code",
   "execution_count": 29,
   "metadata": {
    "slideshow": {
     "slide_type": "fragment"
    }
   },
   "outputs": [
    {
     "name": "stdout",
     "output_type": "stream",
     "text": [
      "<class 'torch.cuda.FloatTensor'>\n",
      "<class 'torch.FloatTensor'>\n"
     ]
    }
   ],
   "source": [
    "if cuda_gpu:\n",
    "    x = x.cuda()\n",
    "    print(type(x.data))\n",
    "\n",
    "x = x.cpu()\n",
    "print(type(x.data))"
   ]
  },
  {
   "cell_type": "code",
   "execution_count": 30,
   "metadata": {
    "slideshow": {
     "slide_type": "skip"
    }
   },
   "outputs": [
    {
     "name": "stdout",
     "output_type": "stream",
     "text": [
      "Variable containing:\n",
      " 0.8210\n",
      "-0.3060\n",
      "-0.4833\n",
      "-2.4531\n",
      "[torch.cuda.FloatTensor of size 4x1 (GPU 0)]\n",
      "\n",
      "Variable containing:\n",
      " 1.6067 -1.3303 -0.6717 -0.6095\n",
      "-0.3414 -0.5062 -0.2533  1.0259\n",
      "-0.0340 -1.2145 -1.5983 -0.1396\n",
      "-0.5476  0.0085  0.4055  0.0976\n",
      " 0.3597  0.5986 -0.0324  0.6113\n",
      "[torch.cuda.FloatTensor of size 5x4 (GPU 0)]\n",
      "\n"
     ]
    }
   ],
   "source": [
    "if cuda_gpu:\n",
    "    x = x.cuda()\n",
    "    y = y.cuda()\n",
    "    w1 = w1.cuda()\n",
    "    w2 = w2.cuda()\n",
    "\n",
    "print (x)\n",
    "for epoch in range(10):\n",
    "    loss = criterion(model_forward(x), y)\n",
    "        \n",
    "    optimizer.zero_grad() # Zero-out previous gradients\n",
    "    loss.backward() # Compute new gradients\n",
    "    optimizer.step() # Apply these gradients\n",
    "print (w1)"
   ]
  },
  {
   "cell_type": "markdown",
   "metadata": {
    "slideshow": {
     "slide_type": "notes"
    }
   },
   "source": [
    "Let's define two functions, train and test, to perform training and inference using our model. This code is also adopted from the PyTorch official tutorial and shows all the steps necessary for training/inference. For the training and testing aour network we need to perform a sequence of actions, that are mapped to PyTorch code fairly straightforward:\n",
    "\n",
    "1. We switch model to training/inference mode\n",
    "2. We iterate over the dataset fetching images in batches\n",
    "3. For every batch we load data and targets and running forward step of the network to get the model outputs\n",
    "4.  We define a loss function and compute loss between model outputs and targets on per batch basis\n",
    "5. In case of training, we zero gradients and use backpropagation with optimizer defined on the previous step to compute gradients of all the layers with respect to loss.\n",
    "6. In case of training, we perform a weight update step\n",
    "\n"
   ]
  },
  {
   "cell_type": "code",
   "execution_count": 31,
   "metadata": {
    "collapsed": true,
    "slideshow": {
     "slide_type": "skip"
    }
   },
   "outputs": [],
   "source": [
    "def train(model, epoch, criterion, optimizer, data_loader):\n",
    "    model.train()\n",
    "    for batch_idx, (data, target) in enumerate(data_loader):\n",
    "        if cuda_gpu:\n",
    "            data, target = data.cuda(), target.cuda()\n",
    "            model.cuda()\n",
    "        data, target = Variable(data), Variable(target)\n",
    "        output = model(data)\n",
    "        \n",
    "        optimizer.zero_grad()\n",
    "        loss = criterion(output, target)\n",
    "        loss.backward()\n",
    "        optimizer.step()\n",
    "        if (batch_idx+1) % 400 == 0:\n",
    "            print('Train Epoch: {} [{}/{} ({:.0f}%)]\\tLoss: {:.6f}'.format(\n",
    "                epoch, (batch_idx+1) * len(data), len(data_loader.dataset),\n",
    "                100. * (batch_idx+1) / len(data_loader), loss.data[0]))"
   ]
  },
  {
   "cell_type": "code",
   "execution_count": 32,
   "metadata": {
    "collapsed": true,
    "slideshow": {
     "slide_type": "skip"
    }
   },
   "outputs": [],
   "source": [
    "def test(model, epoch, criterion, data_loader):\n",
    "    model.eval()\n",
    "    test_loss = 0\n",
    "    correct = 0\n",
    "    for data, target in data_loader:\n",
    "        if cuda_gpu:\n",
    "            data, target = data.cuda(), target.cuda()\n",
    "            model.cuda()\n",
    "        data, target = Variable(data), Variable(target)\n",
    "        output = model(data)\n",
    "        test_loss += criterion(output, target).data[0]\n",
    "        pred = output.data.max(1)[1] # get the index of the max log-probability\n",
    "        correct += pred.eq(target.data).cpu().sum()\n",
    "\n",
    "    test_loss /= len(data_loader) # loss function already averages over batch size\n",
    "    acc = correct / len(data_loader.dataset)\n",
    "    print('\\nTest set: Average loss: {:.4f}, Accuracy: {}/{} ({:.0f}%)\\n'.format(\n",
    "        test_loss, correct, len(data_loader.dataset), 100. * acc))\n",
    "    return (acc, test_loss)"
   ]
  },
  {
   "cell_type": "markdown",
   "metadata": {
    "slideshow": {
     "slide_type": "notes"
    }
   },
   "source": [
    "After this introduction, we can start our data science journey ! The rest of the tutorial is loosely based on these [PyTorch examples](https://github.com/pytorch/examples/).\n"
   ]
  },
  {
   "cell_type": "markdown",
   "metadata": {
    "slideshow": {
     "slide_type": "slide"
    }
   },
   "source": [
    "## 2. PyTorch for Data Analytics\n",
    "* Build models with **torch.nn** library\n",
    "* Train models with **torch.autograd** library\n",
    "* Wrap your data in **torch.utils.data.Dataset** library\n",
    "* Interface your model and data with your favorite tools using **NumPy interface**"
   ]
  },
  {
   "cell_type": "markdown",
   "metadata": {
    "slideshow": {
     "slide_type": "skip"
    }
   },
   "source": [
    "Before we look at more complex models, let's start with something really simple - linear regression and synthetic toy dataset that we can generate with sklearn kit."
   ]
  },
  {
   "cell_type": "code",
   "execution_count": 33,
   "metadata": {
    "slideshow": {
     "slide_type": "skip"
    }
   },
   "outputs": [
    {
     "data": {
      "image/png": "[encoded data removed]",
      "text/plain": [
       "<matplotlib.figure.Figure at 0x7fe211a532e8>"
      ]
     },
     "metadata": {},
     "output_type": "display_data"
    }
   ],
   "source": [
    "from sklearn.datasets import make_regression\n",
    "import seaborn as sns\n",
    "import pandas as pd\n",
    "import matplotlib.pyplot as plt\n",
    "\n",
    "sns.set()\n",
    "\n",
    "x_train, y_train, W_target = make_regression(n_samples=100, n_features=1, noise=10, coef = True)\n",
    "\n",
    "df = pd.DataFrame(data = {'X':x_train.ravel(), 'Y':y_train.ravel()})\n",
    "\n",
    "sns.lmplot(x='X', y='Y', data=df, fit_reg=True)\n",
    "plt.show()\n",
    "\n",
    "x_torch = torch.FloatTensor(x_train)\n",
    "y_torch = torch.FloatTensor(y_train)\n",
    "y_torch = y_torch.view(y_torch.size()[0], 1)"
   ]
  },
  {
   "cell_type": "markdown",
   "metadata": {
    "slideshow": {
     "slide_type": "skip"
    }
   },
   "source": [
    "PyTorch has a lot of useful modules in its **nn** library. One of them is linear. As the name suggests, it performs a linear transformation of its input, which is essentially linear regression does. "
   ]
  },
  {
   "cell_type": "code",
   "execution_count": 34,
   "metadata": {
    "collapsed": true,
    "slideshow": {
     "slide_type": "skip"
    }
   },
   "outputs": [],
   "source": [
    "class LinearRegression(torch.nn.Module):\n",
    "    def __init__(self, input_size, output_size):\n",
    "        super(LinearRegression, self).__init__()\n",
    "        self.linear = torch.nn.Linear(input_size, output_size)  \n",
    "        \n",
    "    def forward(self, x):\n",
    "        return self.linear(x)\n",
    "\n",
    "model = LinearRegression(1, 1)"
   ]
  },
  {
   "cell_type": "markdown",
   "metadata": {
    "slideshow": {
     "slide_type": "skip"
    }
   },
   "source": [
    "To train a linear regression, we will need to add the right loss function from the same **nn** library. For linear regression we will use **MSELoss()**, mean squared error loss function.\n",
    "\n",
    "We will also need to use optimization function (SGD), and run a backpropagation similar to our previous toy example. Essentially, we repeating the steps from the **train()** function we defined above. The reason we can't use this function directly is that we implemented it for classification, not for regression, and as model prediction we use the index of the maximum element of cross-entropy loss. For linear regression we use output of linear layer as a prediction."
   ]
  },
  {
   "cell_type": "code",
   "execution_count": 35,
   "metadata": {
    "collapsed": true,
    "slideshow": {
     "slide_type": "skip"
    }
   },
   "outputs": [],
   "source": [
    "criterion = torch.nn.MSELoss()\n",
    "optimizer = torch.optim.SGD(model.parameters(), lr=0.1)  \n",
    "\n",
    "\n",
    "for epoch in range(50):\n",
    "    data, target = Variable(x_torch), Variable(y_torch)\n",
    "    output = model(data)\n",
    "        \n",
    "    optimizer.zero_grad()\n",
    "    loss = criterion(output, target)\n",
    "    loss.backward()\n",
    "    optimizer.step()\n",
    "        \n",
    "predicted = model(Variable(x_torch)).data.numpy()"
   ]
  },
  {
   "cell_type": "markdown",
   "metadata": {
    "slideshow": {
     "slide_type": "skip"
    }
   },
   "source": [
    "We can now print the original data and linear regression that we fit with PyTorch."
   ]
  },
  {
   "cell_type": "code",
   "execution_count": 36,
   "metadata": {
    "slideshow": {
     "slide_type": "skip"
    }
   },
   "outputs": [
    {
     "data": {
      "image/png": "[encoded data removed]",
      "text/plain": [
       "<matplotlib.figure.Figure at 0x7fe20b5b5ac8>"
      ]
     },
     "metadata": {},
     "output_type": "display_data"
    }
   ],
   "source": [
    "plt.plot(x_train, y_train, 'o', label='Original data')\n",
    "plt.plot(x_train, predicted, label='Fitted line')\n",
    "plt.legend()\n",
    "plt.show()"
   ]
  },
  {
   "cell_type": "markdown",
   "metadata": {
    "collapsed": true,
    "slideshow": {
     "slide_type": "notes"
    }
   },
   "source": [
    "To move forward with more complex models, let's download MNIST dataset to your 'datasets' folder and test some initial pre-processing that's available in PyTorch. PyTorch has dataloaders and handlers for various datasets. Once downloaded, you can use them any time. You can also wrap your data in PyTorch tensors and create your own data loader class.\n",
    "\n",
    "Batch size is a term used in machine learning and refers to the number of training examples utilised in one iteration. The batch size can be one of three options:\n",
    "-  batch mode: where the batch size is equal to the total dataset thus making the iteration and epoch values equivalent\n",
    "-  mini-batch mode: where the batch size is greater than one but less than the total dataset size. Usually, a number that can be divided into the total dataset size.\n",
    "-  stochastic mode: where the batch size is equal to one. Therefore the gradient and the neural network parameters are updated after each sample.\n"
   ]
  },
  {
   "cell_type": "code",
   "execution_count": 37,
   "metadata": {
    "collapsed": true,
    "slideshow": {
     "slide_type": "skip"
    }
   },
   "outputs": [],
   "source": [
    "from torchvision import datasets, transforms\n",
    "\n",
    "batch_num_size = 64\n",
    "\n",
    "train_loader = torch.utils.data.DataLoader(\n",
    "    datasets.MNIST('data',train=True, download=True, transform=transforms.Compose([\n",
    "        transforms.ToTensor(),\n",
    "        transforms.Normalize((0.1307,), (0.3081,))\n",
    "    ])), \n",
    "    batch_size=batch_num_size, shuffle=True)\n",
    "\n",
    "test_loader = torch.utils.data.DataLoader(\n",
    "    datasets.MNIST('data',train=False, transform=transforms.Compose([\n",
    "        transforms.ToTensor(),\n",
    "        transforms.Normalize((0.1307,), (0.3081,))\n",
    "    ])), \n",
    "    batch_size=batch_num_size, shuffle=True)"
   ]
  },
  {
   "cell_type": "markdown",
   "metadata": {
    "collapsed": true,
    "slideshow": {
     "slide_type": "slide"
    }
   },
   "source": [
    "## 2.1 Logistic regression with MNIST"
   ]
  },
  {
   "cell_type": "markdown",
   "metadata": {
    "slideshow": {
     "slide_type": "skip"
    }
   },
   "source": [
    "Let's visualize some of the downloaded MNIST data to better understand what kind of data we are trying to classify."
   ]
  },
  {
   "cell_type": "code",
   "execution_count": 38,
   "metadata": {
    "slideshow": {
     "slide_type": "skip"
    }
   },
   "outputs": [
    {
     "name": "stdout",
     "output_type": "stream",
     "text": [
      "(64, 1, 28, 28)\n"
     ]
    }
   ],
   "source": [
    "sns.reset_orig()\n",
    "\n",
    "dataiter = iter(train_loader)\n",
    "(data,target) = dataiter.next()\n",
    "\n",
    "data = data.numpy()\n",
    "print (data.shape)\n",
    "#print (data[:, 0].shape)  \n",
    "fig, axes = plt.subplots(ncols=10, figsize=(20, 4))"
   ]
  },
  {
   "cell_type": "code",
   "execution_count": 39,
   "metadata": {
    "slideshow": {
     "slide_type": "skip"
    }
   },
   "outputs": [
    {
     "data": {
      "image/png": "[encoded data removed]",
      "text/plain": [
       "<matplotlib.figure.Figure at 0x7fe20b5df5f8>"
      ]
     },
     "metadata": {},
     "output_type": "display_data"
    }
   ],
   "source": [
    "for col in range(10):\n",
    "    axes[col].imshow(data[col, 0, :, :], cmap=plt.cm.gray)\n",
    "plt.show()"
   ]
  },
  {
   "cell_type": "markdown",
   "metadata": {
    "slideshow": {
     "slide_type": "notes"
    }
   },
   "source": [
    "Now we are ready to write a logistic regression model. It's really easy in pytorch. In fact, it's exactly like linear regression, we just need to change the loss function to cross entropy loss during training and inference. We also added input reshaping for the case of multy-dimensional input tensor."
   ]
  },
  {
   "cell_type": "code",
   "execution_count": 40,
   "metadata": {
    "collapsed": true,
    "slideshow": {
     "slide_type": "fragment"
    }
   },
   "outputs": [],
   "source": [
    "class LogisticRegression(nn.Module):\n",
    "    def __init__(self, input_size, num_classes):\n",
    "        super(LogisticRegression, self).__init__()\n",
    "        self.linear = nn.Linear(input_size, num_classes)\n",
    "    \n",
    "    def forward(self, x):\n",
    "        x = x.view(x.size()[0], -1)\n",
    "        return self.linear(x)"
   ]
  },
  {
   "cell_type": "markdown",
   "metadata": {
    "slideshow": {
     "slide_type": "skip"
    }
   },
   "source": [
    "Since logistic regression is a classification model, we can use **train()** and **test()** function we defined earlier. Hence training and testing the model is as easy as one line of code.\n",
    "\n",
    "We can add some regularization during training. To add a common **L2** regularizer, just add **weight_decay** parameter to **SGD()** function."
   ]
  },
  {
   "cell_type": "code",
   "execution_count": 41,
   "metadata": {
    "slideshow": {
     "slide_type": "skip"
    }
   },
   "outputs": [
    {
     "name": "stdout",
     "output_type": "stream",
     "text": [
      "Train Epoch: 0 [25600/60000 (43%)]\tLoss: 0.248953\n",
      "Train Epoch: 0 [51200/60000 (85%)]\tLoss: 0.201164\n",
      "\n",
      "Test set: Average loss: 0.3464, Accuracy: 8986/10000 (90%)\n",
      "\n",
      "Train Epoch: 1 [25600/60000 (43%)]\tLoss: 0.253158\n",
      "Train Epoch: 1 [51200/60000 (85%)]\tLoss: 0.292870\n",
      "\n",
      "Test set: Average loss: 0.3298, Accuracy: 9059/10000 (91%)\n",
      "\n",
      "Train Epoch: 2 [25600/60000 (43%)]\tLoss: 0.321621\n",
      "Train Epoch: 2 [51200/60000 (85%)]\tLoss: 0.324983\n",
      "\n",
      "Test set: Average loss: 0.3236, Accuracy: 9049/10000 (90%)\n",
      "\n"
     ]
    }
   ],
   "source": [
    "model = LogisticRegression(28*28, 10)\n",
    "criterion = nn.CrossEntropyLoss()  \n",
    "optimizer = torch.optim.SGD(model.parameters(), lr=0.1, weight_decay=0.01)  \n",
    "\n",
    "# Training the Model\n",
    "for epoch in range(3):\n",
    "    train(model, epoch, criterion, optimizer, train_loader)\n",
    "    acc, loss = test(model, epoch, criterion, test_loader)"
   ]
  },
  {
   "cell_type": "markdown",
   "metadata": {
    "slideshow": {
     "slide_type": "skip"
    }
   },
   "source": [
    "After you trained your logistic regression function, you can interface weights of your model with NumPy and print the features your model learned."
   ]
  },
  {
   "cell_type": "code",
   "execution_count": 42,
   "metadata": {
    "collapsed": true,
    "slideshow": {
     "slide_type": "skip"
    }
   },
   "outputs": [],
   "source": [
    "fig, axes = plt.subplots(ncols=10, figsize=(20, 4))"
   ]
  },
  {
   "cell_type": "code",
   "execution_count": 43,
   "metadata": {
    "slideshow": {
     "slide_type": "fragment"
    }
   },
   "outputs": [
    {
     "data": {
      "image/png": "[encoded data removed]",
      "text/plain": [
       "<matplotlib.figure.Figure at 0x7fe20a61a978>"
      ]
     },
     "metadata": {},
     "output_type": "display_data"
    }
   ],
   "source": [
    "data = model.linear.weight.data.cpu().view(10, 1, 28, 28).numpy()\n",
    "for col in range(10):\n",
    "    axes[col].imshow(data[col, 0, :, :], cmap=plt.cm.gray)\n",
    "plt.show()"
   ]
  },
  {
   "cell_type": "markdown",
   "metadata": {
    "slideshow": {
     "slide_type": "skip"
    }
   },
   "source": [
    "If you want to save the model to avoid costly retraining process, you can use **torch.save()** function. You can find more information on how to store models in the corresponding page of the [pytorch documentation](http://pytorch.org/docs/master/torch.html#serialization).  "
   ]
  },
  {
   "cell_type": "code",
   "execution_count": 44,
   "metadata": {
    "collapsed": true,
    "slideshow": {
     "slide_type": "skip"
    }
   },
   "outputs": [],
   "source": [
    "torch.save(model.state_dict(), 'pretrained/logreg.t7')"
   ]
  },
  {
   "cell_type": "markdown",
   "metadata": {
    "slideshow": {
     "slide_type": "slide"
    }
   },
   "source": [
    "##  3. LeNet Convolutional Neural Network (CNN) in PyTorch"
   ]
  },
  {
   "cell_type": "markdown",
   "metadata": {
    "collapsed": true,
    "slideshow": {
     "slide_type": "notes"
    }
   },
   "source": [
    "Let's create our first simple neural network from scratch. This network is going to perform image classification trying to recognize hand-written numbers from MNIST dataset. It's a four layer convolutional neural network (CNN), a very common architecture for analyzing MNIST datasets. This code is adopted from one of the official PyTorch tutorials, but you can find many more examples of what you can do with PyTorch as a deep net researcher [here](http://pytorch.org/tutorials/)."
   ]
  },
  {
   "cell_type": "markdown",
   "metadata": {
    "slideshow": {
     "slide_type": "skip"
    }
   },
   "source": [
    "We will use several modeules from **torch.nn** library. \n",
    "1. **Linear** layer -- applies linear transformation of the input tensor using the layer's weights.\n",
    "2. **Conv1** and **Conv2** -- convolution layers, each will output a dot product between convolution kernel (weights tensor of small size) and a small input region of the same size.\n",
    "3. **Relu** -- rectified linear unit function, applies an elementwise activation function **max(0,x)**. \n",
    "4. **Pooling** layer -- performs downsampling of certain area (typically 2x2 pixels) using the **max** operation.\n",
    "5. **Dropout2D** -- randomly zeroes whole channels of the input tensor. In the case where feature maps are strongly correlated, dropout2D promotes the independence between feature maps.\n",
    "6. **Softmax** -- applies the **Log(Softmax(x))** function to an n-dimensional input Tensor to get the output between 0 and 1."
   ]
  },
  {
   "cell_type": "code",
   "execution_count": 45,
   "metadata": {
    "collapsed": true,
    "slideshow": {
     "slide_type": "fragment"
    }
   },
   "outputs": [],
   "source": [
    "class LeNet(nn.Module):\n",
    "    def __init__(self):\n",
    "        super(LeNet,self).__init__()\n",
    "        self.conv1 = nn.Conv2d(1,10,kernel_size=5)\n",
    "        self.conv2 = nn.Conv2d(10,20,kernel_size=5)\n",
    "        self.conv2_drop = nn.Dropout2d()\n",
    "        self.fc1 = nn.Linear(320,50)\n",
    "        self.fc2 = nn.Linear(50,10)\n",
    "        \n",
    "    def forward(self,x):\n",
    "        x = F.relu(F.max_pool2d(self.conv1(x),2))\n",
    "        x = F.relu(F.max_pool2d(self.conv2_drop(self.conv2(x)),2))\n",
    "        x = x.view(-1, 320)\n",
    "        x = F.relu(self.fc1(x))\n",
    "        x = F.dropout(x, training=self.training)\n",
    "        x = self.fc2(x)\n",
    "        return F.log_softmax(x, dim=1)"
   ]
  },
  {
   "cell_type": "markdown",
   "metadata": {
    "slideshow": {
     "slide_type": "notes"
    }
   },
   "source": [
    "After creating a LeNet class, let's create an object and move it to gpu"
   ]
  },
  {
   "cell_type": "code",
   "execution_count": 46,
   "metadata": {
    "slideshow": {
     "slide_type": "skip"
    }
   },
   "outputs": [
    {
     "name": "stdout",
     "output_type": "stream",
     "text": [
      "MNIST_net model:\n",
      "\n",
      "LeNet(\n",
      "  (conv1): Conv2d(1, 10, kernel_size=(5, 5), stride=(1, 1))\n",
      "  (conv2): Conv2d(10, 20, kernel_size=(5, 5), stride=(1, 1))\n",
      "  (conv2_drop): Dropout2d(p=0.5)\n",
      "  (fc1): Linear(in_features=320, out_features=50, bias=True)\n",
      "  (fc2): Linear(in_features=50, out_features=10, bias=True)\n",
      ")\n"
     ]
    }
   ],
   "source": [
    "model = LeNet()\n",
    "if cuda_gpu:\n",
    "    model.cuda()\n",
    "    \n",
    "print ('MNIST_net model:\\n')\n",
    "print (model)"
   ]
  },
  {
   "cell_type": "markdown",
   "metadata": {
    "slideshow": {
     "slide_type": "notes"
    }
   },
   "source": [
    "To train this model we're going to use SGD with learning rate=0.01 and momentum=0.5 \n",
    "Check this link for SGD and [mometum](http://ruder.io/optimizing-gradient-descent/index.html#momentum) explanation."
   ]
  },
  {
   "cell_type": "code",
   "execution_count": 47,
   "metadata": {
    "collapsed": true,
    "slideshow": {
     "slide_type": "skip"
    }
   },
   "outputs": [],
   "source": [
    "criterion = nn.CrossEntropyLoss()  \n",
    "optimizer = optim.SGD(model.parameters(),lr = 0.005, momentum = 0.9)"
   ]
  },
  {
   "cell_type": "markdown",
   "metadata": {
    "slideshow": {
     "slide_type": "notes"
    }
   },
   "source": [
    "We can train a pretty accurate LeNet model just after 5 epochs (one epoch means you use the whole training dataset for updating the training model weights one time). This code checks to see if you have a pre-trained model already stored in a file. If so, it just loads it. Otherwise, it trains one and saves it to disk."
   ]
  },
  {
   "cell_type": "code",
   "execution_count": 48,
   "metadata": {
    "scrolled": true,
    "slideshow": {
     "slide_type": "skip"
    }
   },
   "outputs": [
    {
     "name": "stdout",
     "output_type": "stream",
     "text": [
      "Loading model\n",
      "\n",
      "Test set: Average loss: 0.0471, Accuracy: 9859/10000 (99%)\n",
      "\n"
     ]
    }
   ],
   "source": [
    "import os \n",
    "\n",
    "epochs = 5\n",
    "if (os.path.isfile('pretrained/MNIST_net.t7')):\n",
    "    print ('Loading model')\n",
    "    model.load_state_dict(torch.load('pretrained/MNIST_net.t7', map_location=lambda storage, loc: storage))\n",
    "    acc, loss = test(model, 1, criterion, test_loader)\n",
    "else:\n",
    "    print ('Training model')\n",
    "    for epoch in range(1, epochs + 1):\n",
    "        train(model, epoch, criterion, optimizer, train_loader)\n",
    "        acc, loss = test(model, 1, criterion, test_loader)\n",
    "    torch.save(model.state_dict(), 'pretrained/MNIST_net.t7')\n"
   ]
  },
  {
   "cell_type": "markdown",
   "metadata": {
    "slideshow": {
     "slide_type": "skip"
    }
   },
   "source": [
    "Now let's look at our model. First let's print out the information about it. The print functions show all the layers (E.g., Dropout is implemented as a separate layer), their name and parameters. It also prints the names for all the layers which will be used in the next steps."
   ]
  },
  {
   "cell_type": "code",
   "execution_count": 49,
   "metadata": {
    "slideshow": {
     "slide_type": "skip"
    }
   },
   "outputs": [
    {
     "name": "stdout",
     "output_type": "stream",
     "text": [
      "MNIST_net model:\n",
      "\n",
      "LeNet(\n",
      "  (conv1): Conv2d(1, 10, kernel_size=(5, 5), stride=(1, 1))\n",
      "  (conv2): Conv2d(10, 20, kernel_size=(5, 5), stride=(1, 1))\n",
      "  (conv2_drop): Dropout2d(p=0.5)\n",
      "  (fc1): Linear(in_features=320, out_features=50, bias=True)\n",
      "  (fc2): Linear(in_features=50, out_features=10, bias=True)\n",
      ")\n"
     ]
    }
   ],
   "source": [
    "print ('MNIST_net model:\\n')\n",
    "print (model)"
   ]
  },
  {
   "cell_type": "markdown",
   "metadata": {
    "slideshow": {
     "slide_type": "skip"
    }
   },
   "source": [
    "\n",
    "\n",
    "There is also an iterator that runs over all the named modules in the model. This is helpful when you have a complex DNN that consists of multiple \"internal\" models. Iterating over all named modules allows us to create model parsers that can read model parameters and create modules similar to ones that are used in the network.\n"
   ]
  },
  {
   "cell_type": "code",
   "execution_count": 50,
   "metadata": {
    "slideshow": {
     "slide_type": "skip"
    }
   },
   "outputs": [
    {
     "name": "stdout",
     "output_type": "stream",
     "text": [
      "Internal models:\n",
      "0 -> ('', LeNet(\n",
      "  (conv1): Conv2d(1, 10, kernel_size=(5, 5), stride=(1, 1))\n",
      "  (conv2): Conv2d(10, 20, kernel_size=(5, 5), stride=(1, 1))\n",
      "  (conv2_drop): Dropout2d(p=0.5)\n",
      "  (fc1): Linear(in_features=320, out_features=50, bias=True)\n",
      "  (fc2): Linear(in_features=50, out_features=10, bias=True)\n",
      "))\n",
      "-------------------------------------------------------------------------\n",
      "1 -> ('conv1', Conv2d(1, 10, kernel_size=(5, 5), stride=(1, 1)))\n",
      "-------------------------------------------------------------------------\n",
      "2 -> ('conv2', Conv2d(10, 20, kernel_size=(5, 5), stride=(1, 1)))\n",
      "-------------------------------------------------------------------------\n",
      "3 -> ('conv2_drop', Dropout2d(p=0.5))\n",
      "-------------------------------------------------------------------------\n",
      "4 -> ('fc1', Linear(in_features=320, out_features=50, bias=True))\n",
      "-------------------------------------------------------------------------\n",
      "5 -> ('fc2', Linear(in_features=50, out_features=10, bias=True))\n",
      "-------------------------------------------------------------------------\n"
     ]
    }
   ],
   "source": [
    "print ('Internal models:')\n",
    "for idx, m in enumerate(model.named_modules()):\n",
    "    print(idx, '->', m)\n",
    "    print ('-------------------------------------------------------------------------')"
   ]
  },
  {
   "cell_type": "markdown",
   "metadata": {
    "slideshow": {
     "slide_type": "skip"
    }
   },
   "source": [
    "Similar to named modules, we can iterate over a model's internal parameters. This code prints out information about all the data containers that a specific model uses. It's helpful to know how to access these parameters for updating weight tensors."
   ]
  },
  {
   "cell_type": "code",
   "execution_count": 51,
   "metadata": {
    "slideshow": {
     "slide_type": "skip"
    }
   },
   "outputs": [
    {
     "name": "stdout",
     "output_type": "stream",
     "text": [
      "internal parameters:\n",
      "conv1.weight:  <class 'torch.nn.parameter.Parameter'> torch.Size([10, 1, 5, 5])\n",
      "---------------------------------------------------------------------------------------\n",
      "conv1.bias:  <class 'torch.nn.parameter.Parameter'> torch.Size([10])\n",
      "---------------------------------------------------------------------------------------\n",
      "conv2.weight:  <class 'torch.nn.parameter.Parameter'> torch.Size([20, 10, 5, 5])\n",
      "---------------------------------------------------------------------------------------\n",
      "conv2.bias:  <class 'torch.nn.parameter.Parameter'> torch.Size([20])\n",
      "---------------------------------------------------------------------------------------\n",
      "fc1.weight:  <class 'torch.nn.parameter.Parameter'> torch.Size([50, 320])\n",
      "---------------------------------------------------------------------------------------\n",
      "fc1.bias:  <class 'torch.nn.parameter.Parameter'> torch.Size([50])\n",
      "---------------------------------------------------------------------------------------\n",
      "fc2.weight:  <class 'torch.nn.parameter.Parameter'> torch.Size([10, 50])\n",
      "---------------------------------------------------------------------------------------\n",
      "fc2.bias:  <class 'torch.nn.parameter.Parameter'> torch.Size([10])\n",
      "---------------------------------------------------------------------------------------\n"
     ]
    }
   ],
   "source": [
    "print('internal parameters:')\n",
    "for name,param in model.named_parameters():\n",
    "    print(name + \": \", type(param), param.size())\n",
    "    print('---------------------------------------------------------------------------------------')"
   ]
  },
  {
   "cell_type": "markdown",
   "metadata": {
    "slideshow": {
     "slide_type": "skip"
    }
   },
   "source": [
    "Let's try to access a weight tensor and print it out. We can see the tensor type and size along with data. Also, we can just print the tensor size. Weight tensors in DNNs are usually very large, so checking the size (as opposed to the contents) is very useful when debugging."
   ]
  },
  {
   "cell_type": "code",
   "execution_count": 52,
   "metadata": {
    "scrolled": true,
    "slideshow": {
     "slide_type": "skip"
    }
   },
   "outputs": [
    {
     "name": "stdout",
     "output_type": "stream",
     "text": [
      "<class 'torch.nn.parameter.Parameter'>\n",
      "torch.Size([10, 1, 5, 5])\n",
      "Parameter containing:\n",
      "(0 ,0 ,.,.) = \n",
      " -0.3326  0.0619  0.1446  0.0613  0.0869\n",
      " -0.4763 -0.0131  0.1291  0.3374  0.2129\n",
      " -0.1188  0.1643  0.2340  0.1542 -0.0067\n",
      "  0.0897  0.2317 -0.0397 -0.1650 -0.1677\n",
      "  0.0560 -0.1716 -0.1474  0.0969 -0.1119\n",
      "\n",
      "(1 ,0 ,.,.) = \n",
      "  0.1474  0.3115  0.4264  0.2165 -0.0203\n",
      " -0.1965 -0.1293 -0.2629 -0.0161 -0.0762\n",
      " -0.2161 -0.4547 -0.4099 -0.2752 -0.0581\n",
      " -0.0212 -0.0789 -0.0444  0.0544  0.0801\n",
      "  0.2962  0.2762  0.3134  0.1210  0.0436\n",
      "\n",
      "(2 ,0 ,.,.) = \n",
      " -0.0276  0.1624 -0.0489  0.3204  0.1842\n",
      " -0.1948  0.0329  0.0998  0.0817  0.4210\n",
      "  0.1177 -0.0811 -0.0034 -0.0733  0.1315\n",
      " -0.0694 -0.1168 -0.1301 -0.0334  0.2707\n",
      " -0.3927 -0.1096 -0.1386 -0.2398  0.0943\n",
      "\n",
      "(3 ,0 ,.,.) = \n",
      "  0.1664  0.1382 -0.1063 -0.1228 -0.3840\n",
      " -0.0894 -0.1955 -0.2881 -0.3713 -0.0840\n",
      "  0.0021 -0.2913 -0.2737 -0.0415  0.2981\n",
      " -0.3226 -0.2793  0.0191  0.1750  0.0479\n",
      " -0.3260  0.0261 -0.0394  0.1033  0.1065\n",
      "\n",
      "(4 ,0 ,.,.) = \n",
      "  0.0569  0.3361  0.3601 -0.1554 -0.2146\n",
      " -0.1108  0.3457  0.2381 -0.2242 -0.3739\n",
      "  0.1349  0.2011  0.1508 -0.1235 -0.1359\n",
      "  0.0282  0.2195 -0.0515 -0.0662 -0.2621\n",
      "  0.0739 -0.0391 -0.1506 -0.2479 -0.2894\n",
      "\n",
      "(5 ,0 ,.,.) = \n",
      " -0.2313 -0.0644 -0.2631 -0.1022 -0.0290\n",
      " -0.2088 -0.1734  0.0198 -0.0561  0.1800\n",
      " -0.2025 -0.0044 -0.1250 -0.1381 -0.1612\n",
      " -0.1609 -0.0325 -0.2306 -0.2220 -0.1447\n",
      "  0.1475  0.1293  0.0892  0.0208 -0.2559\n",
      "\n",
      "(6 ,0 ,.,.) = \n",
      "  0.3296  0.4071  0.2384  0.1520  0.2367\n",
      "  0.0133  0.2080  0.2095  0.3014  0.1548\n",
      " -0.4288 -0.1705  0.0070 -0.0356  0.0398\n",
      " -0.3152 -0.3320 -0.3219 -0.2408 -0.0034\n",
      " -0.1924 -0.1633 -0.2200 -0.2028 -0.1924\n",
      "\n",
      "(7 ,0 ,.,.) = \n",
      " -0.2054 -0.2413 -0.2034  0.0382  0.2969\n",
      " -0.2966 -0.0589 -0.1505  0.2017  0.1148\n",
      " -0.1718 -0.3054 -0.0744  0.2358  0.2504\n",
      " -0.3152 -0.2195 -0.1975  0.0525  0.1366\n",
      " -0.0837 -0.0439 -0.0255  0.0283  0.3430\n",
      "\n",
      "(8 ,0 ,.,.) = \n",
      " -0.3190 -0.2982 -0.2073 -0.1974 -0.1053\n",
      " -0.3045 -0.1606 -0.1677 -0.2339 -0.3507\n",
      " -0.0489 -0.1328 -0.0687 -0.1963 -0.1884\n",
      "  0.1958  0.0153  0.0875  0.2082  0.2719\n",
      "  0.2808 -0.0002 -0.1506  0.2590  0.2161\n",
      "\n",
      "(9 ,0 ,.,.) = \n",
      "  0.1021 -0.0717 -0.0703  0.0410 -0.0408\n",
      " -0.2936 -0.1835 -0.0009 -0.1231  0.0390\n",
      " -0.2049 -0.1676 -0.2479  0.0554  0.0900\n",
      "  0.1618 -0.0602  0.2054  0.1968 -0.0757\n",
      "  0.3526  0.3580  0.0918 -0.1536 -0.0027\n",
      "[torch.cuda.FloatTensor of size 10x1x5x5 (GPU 0)]\n",
      "\n"
     ]
    }
   ],
   "source": [
    "t = model.conv1.weight\n",
    "print (type(t))\n",
    "print (t.size())\n",
    "print (t)"
   ]
  },
  {
   "cell_type": "markdown",
   "metadata": {
    "collapsed": true,
    "slideshow": {
     "slide_type": "skip"
    }
   },
   "source": [
    "Here the object printed is a Variable and not a tensor. It is a wrapper around the tensor used to build the computation graph for the forward/backward path. To access the actual tensor, we need to use .data."
   ]
  },
  {
   "cell_type": "code",
   "execution_count": 53,
   "metadata": {
    "scrolled": true,
    "slideshow": {
     "slide_type": "skip"
    }
   },
   "outputs": [
    {
     "name": "stdout",
     "output_type": "stream",
     "text": [
      "<class 'torch.cuda.FloatTensor'>\n",
      "torch.Size([20, 10, 5, 5])\n",
      "\n",
      "(0 ,0 ,.,.) = \n",
      " -8.2037e-05  1.3582e-02  2.0244e-02 -1.9943e-02 -7.7893e-02\n",
      " -1.0396e-01 -8.3978e-02 -1.2411e-01 -1.2931e-01 -4.0826e-02\n",
      " -1.2326e-01 -9.8568e-02 -5.3306e-02  1.0149e-01  1.2639e-01\n",
      " -8.6661e-02 -6.2155e-02 -6.5777e-02 -5.7857e-02 -6.2671e-02\n",
      " -6.5787e-02 -1.8636e-01 -1.6291e-01 -1.7345e-01 -1.2998e-01\n",
      "\n",
      "(0 ,1 ,.,.) = \n",
      " -5.8389e-02 -2.2088e-02 -6.8403e-02  2.6269e-02  5.0578e-02\n",
      "  2.9074e-02  7.5517e-02  1.2157e-01  1.3417e-01  7.3019e-02\n",
      "  3.9684e-02 -7.8071e-02 -3.4606e-02 -2.5784e-02  1.5061e-02\n",
      "  4.4148e-02 -2.4495e-02 -3.2028e-02  7.8683e-02  6.5671e-02\n",
      " -1.0896e-04  5.9706e-02  1.8927e-02  3.1335e-02 -3.6424e-02\n",
      "\n",
      "(0 ,2 ,.,.) = \n",
      " -4.5042e-02 -1.5815e-02 -1.0917e-02 -4.0813e-02  2.7118e-03\n",
      "  3.1682e-02  4.8692e-02 -4.9076e-02 -7.4701e-02 -6.0333e-02\n",
      " -4.1446e-02 -1.2763e-01 -8.7152e-02  1.8507e-02  6.4115e-02\n",
      " -5.9946e-02 -3.4380e-02  7.6220e-02  9.3114e-03  4.0778e-02\n",
      "  6.4881e-02 -1.5272e-02  8.1760e-02  7.2702e-04  1.8256e-02\n",
      "   ...\n",
      "\n",
      "(0 ,7 ,.,.) = \n",
      "  1.5341e-02 -6.5551e-02 -2.2489e-03 -3.8212e-03 -2.9176e-02\n",
      " -8.5326e-02 -4.5779e-02 -2.7835e-02 -9.0050e-02 -5.2610e-02\n",
      " -7.2369e-02 -1.1728e-02  2.9702e-02  1.8628e-02 -4.2310e-02\n",
      " -7.9920e-02  4.1981e-02  1.8630e-02  1.7634e-03 -8.1894e-02\n",
      " -4.3635e-02 -1.2626e-02  3.4980e-02 -1.1856e-01 -9.3455e-02\n",
      "\n",
      "(0 ,8 ,.,.) = \n",
      " -1.1751e-02  3.2204e-02 -3.9134e-02 -5.5944e-02 -5.0121e-02\n",
      " -2.4856e-02  5.5534e-02  7.4951e-02  8.4154e-02  9.3987e-02\n",
      " -3.6105e-03  5.1196e-03 -1.6284e-02  3.7331e-02  1.7574e-02\n",
      " -2.4077e-02 -5.4070e-02  1.4837e-02 -7.0221e-02 -3.8622e-02\n",
      "  7.7082e-02 -4.4997e-02  7.3446e-02 -4.2818e-02 -3.9459e-02\n",
      "\n",
      "(0 ,9 ,.,.) = \n",
      " -7.4102e-02 -9.2458e-03 -4.2408e-02 -4.6486e-02 -8.7267e-02\n",
      " -4.6227e-02 -1.5664e-02  2.2344e-02  1.6561e-02  9.4998e-02\n",
      " -3.6270e-02 -3.9993e-02  3.3930e-04 -2.1563e-02 -1.9965e-02\n",
      " -4.6755e-02  7.3500e-03  2.3813e-02 -9.7210e-02 -2.5895e-02\n",
      "  6.7023e-02  8.1926e-02  1.1507e-02  3.4635e-02  2.3324e-02\n",
      "     ⋮ \n",
      "\n",
      "(1 ,0 ,.,.) = \n",
      "  6.0016e-02  5.0006e-02  1.7948e-01  4.7997e-02 -4.2356e-02\n",
      " -5.1257e-02  9.4135e-02  9.5144e-02 -1.4788e-01 -8.6359e-02\n",
      " -1.2853e-01 -6.1892e-02 -2.7254e-01 -8.2618e-02  9.5560e-02\n",
      " -6.8764e-02 -8.8780e-02 -9.2987e-02  1.1164e-01  3.1770e-02\n",
      " -5.3992e-02 -3.8700e-02 -5.9118e-02 -9.1183e-02 -1.0023e-01\n",
      "\n",
      "(1 ,1 ,.,.) = \n",
      " -4.6365e-02 -1.2775e-02 -3.2748e-03 -1.3364e-01 -1.1349e-01\n",
      " -1.3393e-02 -2.7892e-02 -5.2732e-02  5.0289e-02  1.0809e-01\n",
      "  6.9444e-03  9.7858e-02  1.1983e-01  1.1519e-01  4.1913e-02\n",
      " -2.4429e-02 -1.6398e-02 -2.9657e-02  4.0157e-03 -1.1136e-02\n",
      " -4.6395e-02 -5.6350e-02 -8.5068e-02  1.0065e-02 -6.6433e-04\n",
      "\n",
      "(1 ,2 ,.,.) = \n",
      " -5.6754e-03 -5.7463e-02  5.5209e-02 -9.7076e-02  1.0835e-02\n",
      " -7.4181e-02 -8.4499e-02 -1.2707e-02 -1.3180e-01 -1.3710e-01\n",
      " -1.7485e-02 -8.2239e-02 -1.5625e-01 -1.9209e-01 -2.9264e-02\n",
      " -3.2297e-02 -1.2461e-01 -1.2771e-01 -6.7789e-02  2.0350e-02\n",
      " -4.2816e-02 -1.0220e-01 -1.9046e-02 -9.0565e-02  2.3398e-02\n",
      "   ...\n",
      "\n",
      "(1 ,7 ,.,.) = \n",
      " -3.5395e-03  1.0102e-01  3.8646e-02  2.2807e-02  9.0554e-03\n",
      " -5.3194e-02 -2.3986e-02 -3.3721e-02 -3.0369e-02  4.9882e-02\n",
      " -6.5125e-02 -9.9803e-02 -1.8218e-02  2.7164e-02  1.3753e-02\n",
      " -7.2606e-02 -5.2061e-02 -3.0226e-02 -5.7344e-02  2.5905e-03\n",
      "  1.1660e-01  2.9398e-03  6.4503e-03 -9.0392e-02 -5.3284e-02\n",
      "\n",
      "(1 ,8 ,.,.) = \n",
      "  5.3767e-02  2.2759e-02  1.4102e-02  8.6102e-03 -1.3645e-01\n",
      " -1.8307e-02 -8.0410e-02  4.8464e-02  1.1102e-02  8.0966e-03\n",
      "  3.4969e-02  2.0080e-02  1.4002e-01  1.2117e-01  1.4945e-01\n",
      "  3.8591e-02 -2.6471e-02  1.0782e-02  1.5258e-02  6.5592e-03\n",
      "  5.8438e-03 -2.9101e-02 -2.2256e-02 -1.1759e-01 -4.2572e-02\n",
      "\n",
      "(1 ,9 ,.,.) = \n",
      " -4.2657e-02  8.4783e-02  4.3867e-02  1.7813e-03 -2.2578e-02\n",
      " -1.8723e-02 -3.1019e-02 -4.1105e-02 -3.2504e-02  3.7309e-02\n",
      " -9.6160e-02  4.2823e-02  1.7815e-02  4.7939e-02  1.3663e-02\n",
      " -4.8860e-02 -5.2605e-02  6.5742e-02 -5.6223e-02  1.2583e-02\n",
      " -2.1883e-02  2.4538e-03  5.1331e-02 -3.7048e-03 -2.8235e-02\n",
      "     ⋮ \n",
      "\n",
      "(2 ,0 ,.,.) = \n",
      " -1.1343e-02 -1.6515e-01  1.3750e-02 -7.3038e-04  4.1279e-02\n",
      " -9.3457e-02 -2.0358e-01 -7.5808e-02  1.0439e-01  1.8264e-01\n",
      " -5.8241e-02 -1.6343e-01  1.2275e-01  8.3715e-02 -3.4118e-02\n",
      " -1.3959e-01  5.0841e-02  4.4182e-02 -3.8282e-02 -1.5186e-01\n",
      " -6.4689e-02  4.3519e-02 -3.8929e-04 -3.0478e-02 -1.0092e-01\n",
      "\n",
      "(2 ,1 ,.,.) = \n",
      " -1.1887e-01 -1.0894e-01 -4.4239e-02  8.1807e-02 -6.4569e-02\n",
      " -1.2791e-01 -4.3896e-02 -4.7125e-02 -4.3031e-02 -1.2612e-01\n",
      " -5.4641e-02 -7.7896e-02 -3.2407e-02 -6.8002e-02 -1.4188e-01\n",
      " -2.8161e-02  8.1560e-03 -1.3922e-01 -5.9659e-02  8.4232e-02\n",
      "  8.8565e-02 -3.9376e-02 -7.8187e-02  3.9106e-02 -2.8383e-02\n",
      "\n",
      "(2 ,2 ,.,.) = \n",
      " -1.0880e-01  4.3608e-03  3.9058e-02  7.1572e-02  2.6427e-02\n",
      " -1.0294e-01 -4.1599e-02 -4.4224e-02 -4.5941e-02 -1.4797e-02\n",
      " -9.2298e-02 -5.0403e-02 -4.0677e-02 -5.8107e-02 -9.4755e-02\n",
      " -7.0369e-02 -5.4460e-02  3.3144e-02 -2.4758e-02 -4.3179e-02\n",
      " -2.1640e-01 -9.1549e-02 -2.2661e-03 -1.9908e-02  3.9288e-02\n",
      "   ...\n",
      "\n",
      "(2 ,7 ,.,.) = \n",
      "  6.9271e-03 -5.0982e-03 -1.5981e-02 -3.1967e-02  5.7127e-02\n",
      " -1.2256e-02  5.1788e-02  6.9832e-02  8.0015e-02  5.2999e-02\n",
      " -8.8297e-02  7.4222e-02  4.9427e-02  1.0904e-01 -4.6003e-02\n",
      " -9.5128e-02  7.4223e-02  5.3610e-02  1.7359e-01 -1.4072e-01\n",
      " -5.0380e-02 -2.2467e-02  2.4300e-02  1.0812e-01 -5.4894e-02\n",
      "\n",
      "(2 ,8 ,.,.) = \n",
      " -1.1985e-02 -1.7361e-02 -2.1129e-02  1.6763e-02 -3.6996e-02\n",
      "  3.5981e-02  7.3382e-02 -3.2001e-02  1.0201e-01 -6.1857e-02\n",
      "  7.5560e-03  1.0652e-02 -3.6130e-02 -6.1376e-02 -1.3672e-01\n",
      "  4.6432e-02 -1.2657e-01 -7.6716e-02 -6.9796e-02 -6.5647e-02\n",
      "  5.2731e-03 -7.7747e-02 -1.1689e-01 -2.7526e-02  4.6108e-02\n",
      "\n",
      "(2 ,9 ,.,.) = \n",
      " -7.8076e-02 -8.1092e-02 -1.0337e-02 -4.4480e-02  1.2494e-02\n",
      "  4.7213e-02 -3.2783e-02  5.2397e-02  3.6568e-02 -4.1201e-02\n",
      " -4.1849e-02 -6.7098e-02 -3.0186e-02  8.2873e-03 -1.0584e-01\n",
      "  4.9345e-02 -4.7663e-02 -1.2037e-04 -5.4613e-02 -1.3521e-02\n",
      "  3.6178e-02  7.0070e-02 -4.1157e-02 -7.4993e-03 -4.0017e-02\n",
      "...   \n",
      "     ⋮ \n",
      "\n",
      "(17,0 ,.,.) = \n",
      "  8.3150e-02 -6.0100e-02 -3.6816e-03  2.6451e-02  1.8018e-01\n",
      " -7.9064e-02 -2.5469e-01 -9.4042e-02 -6.8061e-03 -6.6482e-02\n",
      " -1.7161e-01 -2.1320e-01 -2.5275e-01 -2.0759e-01 -2.9297e-01\n",
      " -8.4972e-02 -7.5225e-02 -9.4782e-02 -9.4855e-02 -1.2089e-01\n",
      "  5.7906e-02  6.1543e-02  2.6089e-02  1.4314e-02  4.4270e-02\n",
      "\n",
      "(17,1 ,.,.) = \n",
      " -9.7270e-02 -8.3440e-02 -4.3678e-02  3.3496e-02 -1.8743e-02\n",
      "  8.8732e-02  7.5752e-02  1.7899e-02 -6.7135e-02  3.2662e-03\n",
      "  7.5458e-02 -2.3177e-02  4.4386e-03  5.4769e-02  1.1419e-01\n",
      "  7.8623e-02  1.3667e-02  2.1315e-02 -3.6077e-02  9.9734e-02\n",
      " -6.6446e-02 -7.0974e-02  4.1828e-03  1.5787e-03 -4.7972e-02\n",
      "\n",
      "(17,2 ,.,.) = \n",
      " -6.0340e-02  2.2019e-02  1.2102e-02  4.5135e-03  8.7463e-02\n",
      " -4.4256e-02 -5.1448e-02 -9.7400e-03 -3.4540e-02 -9.8068e-05\n",
      " -2.8136e-02 -1.6089e-02 -1.5177e-02 -7.3941e-02 -1.0003e-01\n",
      "  1.6406e-02 -4.3388e-02 -1.5189e-02 -3.4609e-02  1.2368e-02\n",
      "  1.2132e-03  6.9856e-03  1.5866e-02  6.4759e-02  1.0814e-01\n",
      "   ...\n",
      "\n",
      "(17,7 ,.,.) = \n",
      " -1.2338e-01 -4.4809e-02  2.9071e-02  2.4744e-02  3.2710e-02\n",
      " -1.5079e-01 -1.3598e-02 -5.1865e-02  7.6386e-04 -6.4213e-02\n",
      " -5.9107e-02  1.8223e-02 -3.0056e-02 -1.5562e-03 -7.1045e-02\n",
      " -2.4272e-02  2.8340e-02 -2.8921e-02  3.0744e-02 -6.1466e-02\n",
      " -2.4578e-02  1.1963e-02  7.3569e-03  1.0648e-02 -7.5783e-02\n",
      "\n",
      "(17,8 ,.,.) = \n",
      " -8.4110e-02 -1.1641e-01 -2.0302e-02  1.4232e-02  9.8737e-03\n",
      " -3.5106e-03 -1.8508e-03  7.9643e-02 -3.9945e-02 -8.7312e-02\n",
      "  1.0906e-02  7.6149e-02  1.5230e-01  8.2442e-02  9.6480e-02\n",
      "  7.4120e-02  7.6459e-02  8.3624e-02  1.5280e-01  1.5167e-01\n",
      "  1.9025e-02  1.7967e-02  3.1701e-02  4.4394e-02 -7.9279e-03\n",
      "\n",
      "(17,9 ,.,.) = \n",
      " -6.6649e-02 -4.0174e-02  2.9158e-02  2.8468e-02 -5.2543e-02\n",
      " -4.6994e-02  2.1548e-02  8.4623e-02  3.2145e-03 -2.0821e-02\n",
      "  4.4747e-02 -1.7806e-02 -1.0138e-02  2.3851e-02  1.2106e-02\n",
      "  7.5885e-02  2.2751e-02  4.1703e-02  6.9400e-02  7.9342e-02\n",
      "  4.9225e-02 -7.6066e-03  3.5458e-02  1.3309e-02 -8.3993e-02\n",
      "     ⋮ \n",
      "\n",
      "(18,0 ,.,.) = \n",
      " -7.1817e-02 -1.1957e-01  7.4977e-02  1.6294e-02 -6.0131e-02\n",
      "  1.2204e-01 -3.0933e-02 -1.9166e-01 -9.4832e-02 -2.7473e-03\n",
      "  5.4187e-02  1.2425e-01 -7.8450e-02 -1.6364e-01 -4.1271e-02\n",
      "  1.2294e-01  3.2215e-02  2.7863e-02  4.7096e-02  1.5970e-01\n",
      "  6.4909e-02  1.0095e-01  9.9266e-02  1.4109e-01  4.7272e-03\n",
      "\n",
      "(18,1 ,.,.) = \n",
      " -1.6598e-02  8.0243e-02  5.2195e-02  3.6322e-02 -5.7024e-02\n",
      "  3.9262e-02 -4.0285e-02  5.0997e-02  1.3852e-01  5.5447e-03\n",
      " -3.3964e-02  7.7902e-02 -4.1124e-02  1.4838e-02  2.2140e-02\n",
      "  3.8708e-02  4.6558e-02  3.3423e-02 -4.7968e-02  2.7906e-02\n",
      " -3.9625e-02  2.0845e-02  6.0486e-03 -7.0882e-02 -1.5979e-01\n",
      "\n",
      "(18,2 ,.,.) = \n",
      " -6.6559e-02 -1.6328e-01 -7.4153e-03 -4.7527e-02 -3.7007e-02\n",
      " -6.4731e-02 -7.3354e-02 -5.9842e-02 -1.2620e-02 -2.8734e-02\n",
      " -1.1607e-02  8.6068e-02 -1.8978e-02 -3.6458e-02 -1.1055e-01\n",
      " -4.9359e-02  7.7014e-02  6.8650e-02 -5.4042e-02  2.7854e-02\n",
      "  5.9719e-02 -1.5676e-02  9.0832e-02 -1.7772e-03  4.2265e-02\n",
      "   ...\n",
      "\n",
      "(18,7 ,.,.) = \n",
      " -3.9311e-02 -6.1909e-02 -1.9868e-02  8.0381e-03 -2.2486e-02\n",
      " -9.3393e-02 -1.3517e-02 -1.4140e-02  6.6068e-02  1.1294e-01\n",
      " -4.0678e-02 -3.9167e-02  3.6690e-02  4.8973e-02  1.1758e-01\n",
      " -2.0564e-02  4.8462e-04  1.1999e-01 -1.8976e-02  7.1856e-02\n",
      " -7.4342e-02 -2.7098e-02  2.6179e-02 -1.4321e-02 -4.6212e-02\n",
      "\n",
      "(18,8 ,.,.) = \n",
      "  4.9845e-02  4.9602e-02  7.1783e-03  4.0600e-02  5.6701e-02\n",
      " -7.4566e-02 -1.9180e-02 -2.2553e-02  6.9294e-02  9.7918e-02\n",
      " -1.6064e-01 -1.6368e-01 -1.0125e-01  3.4873e-02  1.5692e-01\n",
      " -1.7756e-01 -2.1067e-01 -5.6298e-02  3.3489e-02  1.5823e-02\n",
      " -6.0866e-02  1.1981e-02  1.1453e-01  8.0696e-03 -1.4874e-02\n",
      "\n",
      "(18,9 ,.,.) = \n",
      "  2.1613e-02  4.4673e-02  8.3889e-02  2.5231e-02  1.4184e-02\n",
      "  6.8755e-02  7.2049e-02  1.3462e-01  1.5100e-01 -7.1492e-03\n",
      " -2.0170e-02 -9.1103e-02 -7.2628e-02 -6.2418e-02  8.6701e-02\n",
      "  2.2754e-02  9.2777e-02  4.4084e-02 -4.1038e-02 -2.6783e-03\n",
      "  6.1834e-02  1.0630e-01  1.5752e-02 -1.0129e-03 -5.3364e-02\n",
      "     ⋮ \n",
      "\n",
      "(19,0 ,.,.) = \n",
      " -1.2684e-02  3.4092e-02  1.8731e-02  4.2164e-02  1.4505e-02\n",
      "  9.9883e-02  6.7916e-02 -4.0652e-02 -5.6912e-02 -5.1977e-02\n",
      "  2.5387e-01 -6.6274e-03 -1.8041e-01 -1.4370e-01 -8.4390e-02\n",
      "  1.7071e-01  4.4959e-02 -4.5476e-02 -1.5569e-01 -1.2023e-01\n",
      "  1.1366e-01  1.8017e-01  6.2143e-02 -1.0338e-01 -1.1375e-01\n",
      "\n",
      "(19,1 ,.,.) = \n",
      " -2.9638e-02 -7.5691e-02 -9.4371e-02 -7.8026e-02  2.1120e-02\n",
      " -6.6078e-02 -1.0392e-01 -4.4055e-02 -3.2623e-02 -9.0596e-02\n",
      "  8.2151e-03 -8.0977e-02 -5.2392e-02 -2.1398e-03 -8.7618e-02\n",
      "  2.0529e-02 -1.1911e-02 -5.0446e-02 -1.0117e-01 -1.0656e-01\n",
      "  8.7415e-02  9.7045e-03  1.9666e-02 -3.4298e-02 -8.7867e-02\n",
      "\n",
      "(19,2 ,.,.) = \n",
      " -1.3448e-01 -9.7368e-02  1.0858e-02  1.7286e-02  3.8594e-03\n",
      " -5.0855e-02 -6.6390e-02 -5.9236e-04 -2.4002e-03 -5.4883e-02\n",
      "  1.0509e-02  4.0477e-03 -4.3656e-02  3.2645e-02 -1.7178e-02\n",
      " -2.4795e-02 -1.1388e-02  8.5563e-03 -4.5076e-02  4.4743e-02\n",
      "  1.1880e-01  1.6352e-02 -3.0909e-03 -2.0871e-02 -3.7492e-02\n",
      "   ...\n",
      "\n",
      "(19,7 ,.,.) = \n",
      "  5.8455e-02 -7.1192e-03 -3.4398e-02 -4.1017e-02  5.6500e-02\n",
      "  4.7691e-02 -4.1814e-03 -3.8130e-02 -6.0821e-02  7.6834e-02\n",
      "  2.0336e-02  7.4208e-02 -4.3493e-02 -7.1544e-02 -2.5517e-02\n",
      "  8.0602e-02  1.2416e-01 -1.0061e-02  6.6043e-02  6.8603e-02\n",
      "  2.9698e-02  3.9892e-02  4.9861e-02  7.1898e-02  2.5071e-02\n",
      "\n",
      "(19,8 ,.,.) = \n",
      " -6.0901e-02  2.3743e-02 -2.0248e-02 -5.6985e-02 -2.6070e-02\n",
      " -3.2225e-02  1.0882e-01  8.7429e-02 -4.7888e-02 -7.2084e-02\n",
      "  4.6041e-02  6.9497e-03  4.6355e-02 -1.3494e-02  7.1231e-03\n",
      " -2.5826e-02 -6.2310e-02 -1.7675e-02  2.9606e-02  2.5995e-02\n",
      " -8.5864e-02  1.0975e-02 -3.6584e-02 -5.4181e-02  6.7833e-02\n",
      "\n",
      "(19,9 ,.,.) = \n",
      " -3.3611e-02  5.3481e-03 -4.0087e-02  2.8521e-03 -7.7641e-02\n",
      "  6.4816e-02  3.6758e-02  4.8816e-02 -3.3225e-03 -5.1894e-03\n",
      "  3.8270e-02 -5.2504e-02 -5.3306e-02  3.2807e-02 -6.9571e-02\n",
      " -1.7032e-02 -8.0857e-02 -5.3255e-02 -3.0414e-02 -1.6542e-02\n",
      " -4.3085e-02  4.0040e-03 -1.8141e-02 -1.9958e-02 -5.6711e-03\n",
      "[torch.cuda.FloatTensor of size 20x10x5x5 (GPU 0)]\n",
      "\n"
     ]
    }
   ],
   "source": [
    "t = model.conv2.weight \n",
    "print(type(t.data))\n",
    "print(t.data.size())\n",
    "print(t.data)"
   ]
  },
  {
   "cell_type": "markdown",
   "metadata": {
    "slideshow": {
     "slide_type": "skip"
    }
   },
   "source": [
    "\n",
    "\n",
    "You always can move tensor to the CPU (or make sure it's there) using the .cpu() method. Alternatively, you can always move a tensor to the GPU, if a GPU is available (torch.cuda.is_available()) using .cuda() method. You can see that if the tensor is on GPU, its type is 'torch.cuda.FloatTensor'. If tensor is on the CPU, its type is just 'torch.FloatTensor'.\n"
   ]
  },
  {
   "cell_type": "code",
   "execution_count": 54,
   "metadata": {
    "slideshow": {
     "slide_type": "skip"
    }
   },
   "outputs": [
    {
     "name": "stdout",
     "output_type": "stream",
     "text": [
      "<class 'torch.FloatTensor'>\n",
      "Cuda is available\n",
      "<class 'torch.cuda.FloatTensor'>\n"
     ]
    }
   ],
   "source": [
    "print (type(t.cpu().data))\n",
    "if torch.cuda.is_available():\n",
    "    print (\"Cuda is available\")\n",
    "    print (type(t.cuda().data))\n",
    "else:\n",
    "    print (\"Cuda is NOT available\")"
   ]
  },
  {
   "cell_type": "markdown",
   "metadata": {
    "slideshow": {
     "slide_type": "skip"
    }
   },
   "source": [
    "If the tensor is on the CPU, we can transform it to numpy array sharing the same memory location and changing the one will change the other. "
   ]
  },
  {
   "cell_type": "code",
   "execution_count": 55,
   "metadata": {
    "slideshow": {
     "slide_type": "skip"
    }
   },
   "outputs": [
    {
     "name": "stdout",
     "output_type": "stream",
     "text": [
      "<class 'numpy.ndarray'>\n",
      "(20, 10, 5, 5)\n",
      "[[[[ -8.20374626e-05   1.35821616e-02   2.02440582e-02  -1.99429858e-02\n",
      "     -7.78933167e-02]\n",
      "   [ -1.03958428e-01  -8.39783996e-02  -1.24106504e-01  -1.29314303e-01\n",
      "     -4.08263505e-02]\n",
      "   [ -1.23256370e-01  -9.85683054e-02  -5.33063151e-02   1.01492234e-01\n",
      "      1.26388997e-01]\n",
      "   [ -8.66612867e-02  -6.21546768e-02  -6.57773316e-02  -5.78570701e-02\n",
      "     -6.26707450e-02]\n",
      "   [ -6.57874942e-02  -1.86357662e-01  -1.62909701e-01  -1.73445672e-01\n",
      "     -1.29978418e-01]]\n",
      "\n",
      "  [[ -5.83886914e-02  -2.20877603e-02  -6.84031472e-02   2.62686014e-02\n",
      "      5.05783781e-02]\n",
      "   [  2.90736072e-02   7.55167156e-02   1.21565565e-01   1.34170964e-01\n",
      "      7.30192587e-02]\n",
      "   [  3.96843553e-02  -7.80714527e-02  -3.46058942e-02  -2.57841907e-02\n",
      "      1.50611680e-02]\n",
      "   [  4.41484600e-02  -2.44949162e-02  -3.20279710e-02   7.86829293e-02\n",
      "      6.56709597e-02]\n",
      "   [ -1.08956403e-04   5.97056448e-02   1.89267155e-02   3.13353091e-02\n",
      "     -3.64244208e-02]]\n",
      "\n",
      "  [[ -4.50419225e-02  -1.58146527e-02  -1.09172007e-02  -4.08128016e-02\n",
      "      2.71183695e-03]\n",
      "   [  3.16815116e-02   4.86920401e-02  -4.90760021e-02  -7.47012123e-02\n",
      "     -6.03332147e-02]\n",
      "   [ -4.14458811e-02  -1.27627999e-01  -8.71521086e-02   1.85069144e-02\n",
      "      6.41146973e-02]\n",
      "   [ -5.99461384e-02  -3.43797281e-02   7.62198791e-02   9.31143109e-03\n",
      "      4.07778285e-02]\n",
      "   [  6.48806393e-02  -1.52715398e-02   8.17599595e-02   7.27016712e-04\n",
      "      1.82558019e-02]]\n",
      "\n",
      "  ..., \n",
      "  [[  1.53412800e-02  -6.55514747e-02  -2.24889512e-03  -3.82118509e-03\n",
      "     -2.91758776e-02]\n",
      "   [ -8.53257179e-02  -4.57785279e-02  -2.78347544e-02  -9.00501236e-02\n",
      "     -5.26098646e-02]\n",
      "   [ -7.23687187e-02  -1.17277084e-02   2.97023430e-02   1.86282005e-02\n",
      "     -4.23102938e-02]\n",
      "   [ -7.99198449e-02   4.19813171e-02   1.86300799e-02   1.76339247e-03\n",
      "     -8.18940774e-02]\n",
      "   [ -4.36349511e-02  -1.26260864e-02   3.49804722e-02  -1.18564665e-01\n",
      "     -9.34550762e-02]]\n",
      "\n",
      "  [[ -1.17509654e-02   3.22040804e-02  -3.91338877e-02  -5.59439808e-02\n",
      "     -5.01212962e-02]\n",
      "   [ -2.48563476e-02   5.55336364e-02   7.49514103e-02   8.41538236e-02\n",
      "      9.39874053e-02]\n",
      "   [ -3.61047359e-03   5.11956401e-03  -1.62837785e-02   3.73309478e-02\n",
      "      1.75742637e-02]\n",
      "   [ -2.40772795e-02  -5.40698133e-02   1.48370536e-02  -7.02210888e-02\n",
      "     -3.86224426e-02]\n",
      "   [  7.70820975e-02  -4.49969731e-02   7.34456703e-02  -4.28184308e-02\n",
      "     -3.94586362e-02]]\n",
      "\n",
      "  [[ -7.41018802e-02  -9.24578402e-03  -4.24078479e-02  -4.64858897e-02\n",
      "     -8.72670114e-02]\n",
      "   [ -4.62272875e-02  -1.56644844e-02   2.23442111e-02   1.65609419e-02\n",
      "      9.49979126e-02]\n",
      "   [ -3.62699591e-02  -3.99925075e-02   3.39298276e-04  -2.15633586e-02\n",
      "     -1.99651048e-02]\n",
      "   [ -4.67554405e-02   7.34997308e-03   2.38130596e-02  -9.72098559e-02\n",
      "     -2.58948635e-02]\n",
      "   [  6.70231581e-02   8.19264129e-02   1.15070688e-02   3.46349441e-02\n",
      "      2.33243667e-02]]]\n",
      "\n",
      "\n",
      " [[[  6.00155741e-02   5.00063449e-02   1.79480731e-01   4.79969382e-02\n",
      "     -4.23564650e-02]\n",
      "   [ -5.12573980e-02   9.41352621e-02   9.51435268e-02  -1.47884011e-01\n",
      "     -8.63592327e-02]\n",
      "   [ -1.28532544e-01  -6.18918166e-02  -2.72543430e-01  -8.26183408e-02\n",
      "      9.55599099e-02]\n",
      "   [ -6.87635913e-02  -8.87800083e-02  -9.29865167e-02   1.11639276e-01\n",
      "      3.17699686e-02]\n",
      "   [ -5.39916717e-02  -3.87000516e-02  -5.91179468e-02  -9.11827609e-02\n",
      "     -1.00233361e-01]]\n",
      "\n",
      "  [[ -4.63648811e-02  -1.27751287e-02  -3.27479793e-03  -1.33635491e-01\n",
      "     -1.13487199e-01]\n",
      "   [ -1.33931404e-02  -2.78923791e-02  -5.27315252e-02   5.02887554e-02\n",
      "      1.08088218e-01]\n",
      "   [  6.94443751e-03   9.78580192e-02   1.19826972e-01   1.15193859e-01\n",
      "      4.19126526e-02]\n",
      "   [ -2.44287327e-02  -1.63984224e-02  -2.96571497e-02   4.01569344e-03\n",
      "     -1.11360727e-02]\n",
      "   [ -4.63950001e-02  -5.63501753e-02  -8.50678161e-02   1.00645740e-02\n",
      "     -6.64327526e-04]]\n",
      "\n",
      "  [[ -5.67536941e-03  -5.74634001e-02   5.52086942e-02  -9.70758572e-02\n",
      "      1.08345784e-02]\n",
      "   [ -7.41806179e-02  -8.44987854e-02  -1.27070285e-02  -1.31803885e-01\n",
      "     -1.37096688e-01]\n",
      "   [ -1.74852703e-02  -8.22390392e-02  -1.56251892e-01  -1.92091152e-01\n",
      "     -2.92636864e-02]\n",
      "   [ -3.22972536e-02  -1.24609098e-01  -1.27706349e-01  -6.77894726e-02\n",
      "      2.03496832e-02]\n",
      "   [ -4.28161807e-02  -1.02202512e-01  -1.90459471e-02  -9.05647501e-02\n",
      "      2.33979281e-02]]\n",
      "\n",
      "  ..., \n",
      "  [[ -3.53950961e-03   1.01021893e-01   3.86457965e-02   2.28073113e-02\n",
      "      9.05536115e-03]\n",
      "   [ -5.31937368e-02  -2.39859466e-02  -3.37214470e-02  -3.03688534e-02\n",
      "      4.98819165e-02]\n",
      "   [ -6.51248544e-02  -9.98034775e-02  -1.82180703e-02   2.71638166e-02\n",
      "      1.37532987e-02]\n",
      "   [ -7.26061910e-02  -5.20608798e-02  -3.02263256e-02  -5.73440082e-02\n",
      "      2.59051146e-03]\n",
      "   [  1.16600521e-01   2.93984287e-03   6.45032153e-03  -9.03923661e-02\n",
      "     -5.32839186e-02]]\n",
      "\n",
      "  [[  5.37668169e-02   2.27589477e-02   1.41019635e-02   8.61022435e-03\n",
      "     -1.36448652e-01]\n",
      "   [ -1.83070805e-02  -8.04104954e-02   4.84639034e-02   1.11017944e-02\n",
      "      8.09658132e-03]\n",
      "   [  3.49693000e-02   2.00802647e-02   1.40018657e-01   1.21169209e-01\n",
      "      1.49445310e-01]\n",
      "   [  3.85908261e-02  -2.64714304e-02   1.07820053e-02   1.52584240e-02\n",
      "      6.55916426e-03]\n",
      "   [  5.84379071e-03  -2.91013084e-02  -2.22564116e-02  -1.17588028e-01\n",
      "     -4.25722077e-02]]\n",
      "\n",
      "  [[ -4.26571406e-02   8.47827122e-02   4.38667387e-02   1.78132555e-03\n",
      "     -2.25779954e-02]\n",
      "   [ -1.87227018e-02  -3.10194530e-02  -4.11049798e-02  -3.25036645e-02\n",
      "      3.73086706e-02]\n",
      "   [ -9.61597785e-02   4.28227074e-02   1.78151410e-02   4.79387864e-02\n",
      "      1.36627601e-02]\n",
      "   [ -4.88603003e-02  -5.26054017e-02   6.57415688e-02  -5.62230162e-02\n",
      "      1.25827398e-02]\n",
      "   [ -2.18827426e-02   2.45375629e-03   5.13307601e-02  -3.70475533e-03\n",
      "     -2.82348283e-02]]]\n",
      "\n",
      "\n",
      " [[[ -1.13432901e-02  -1.65147081e-01   1.37504693e-02  -7.30381405e-04\n",
      "      4.12788726e-02]\n",
      "   [ -9.34568644e-02  -2.03576490e-01  -7.58082345e-02   1.04391187e-01\n",
      "      1.82641357e-01]\n",
      "   [ -5.82408942e-02  -1.63434297e-01   1.22746140e-01   8.37150589e-02\n",
      "     -3.41176949e-02]\n",
      "   [ -1.39590457e-01   5.08410595e-02   4.41823006e-02  -3.82821150e-02\n",
      "     -1.51857138e-01]\n",
      "   [ -6.46891817e-02   4.35186885e-02  -3.89285298e-04  -3.04784141e-02\n",
      "     -1.00916877e-01]]\n",
      "\n",
      "  [[ -1.18873656e-01  -1.08937830e-01  -4.42392938e-02   8.18073303e-02\n",
      "     -6.45687580e-02]\n",
      "   [ -1.27912000e-01  -4.38959524e-02  -4.71252464e-02  -4.30311970e-02\n",
      "     -1.26122907e-01]\n",
      "   [ -5.46406433e-02  -7.78956711e-02  -3.24070677e-02  -6.80018142e-02\n",
      "     -1.41882464e-01]\n",
      "   [ -2.81611178e-02   8.15599971e-03  -1.39224038e-01  -5.96593171e-02\n",
      "      8.42316076e-02]\n",
      "   [  8.85649249e-02  -3.93756256e-02  -7.81870931e-02   3.91058400e-02\n",
      "     -2.83834934e-02]]\n",
      "\n",
      "  [[ -1.08800001e-01   4.36081737e-03   3.90583761e-02   7.15717971e-02\n",
      "      2.64271125e-02]\n",
      "   [ -1.02938585e-01  -4.15987782e-02  -4.42243256e-02  -4.59406972e-02\n",
      "     -1.47973429e-02]\n",
      "   [ -9.22977105e-02  -5.04026748e-02  -4.06769104e-02  -5.81070334e-02\n",
      "     -9.47554708e-02]\n",
      "   [ -7.03690201e-02  -5.44602387e-02   3.31436209e-02  -2.47582477e-02\n",
      "     -4.31794263e-02]\n",
      "   [ -2.16397241e-01  -9.15488899e-02  -2.26614671e-03  -1.99081022e-02\n",
      "      3.92876975e-02]]\n",
      "\n",
      "  ..., \n",
      "  [[  6.92713587e-03  -5.09818783e-03  -1.59813762e-02  -3.19672264e-02\n",
      "      5.71267158e-02]\n",
      "   [ -1.22562489e-02   5.17876633e-02   6.98315725e-02   8.00152421e-02\n",
      "      5.29988334e-02]\n",
      "   [ -8.82966071e-02   7.42221624e-02   4.94273119e-02   1.09039493e-01\n",
      "     -4.60029393e-02]\n",
      "   [ -9.51279849e-02   7.42227957e-02   5.36096059e-02   1.73593193e-01\n",
      "     -1.40723124e-01]\n",
      "   [ -5.03800400e-02  -2.24669967e-02   2.42999792e-02   1.08120993e-01\n",
      "     -5.48940636e-02]]\n",
      "\n",
      "  [[ -1.19847106e-02  -1.73605792e-02  -2.11292766e-02   1.67630482e-02\n",
      "     -3.69961336e-02]\n",
      "   [  3.59808989e-02   7.33823702e-02  -3.20010260e-02   1.02014683e-01\n",
      "     -6.18569963e-02]\n",
      "   [  7.55599141e-03   1.06523344e-02  -3.61297615e-02  -6.13762923e-02\n",
      "     -1.36718377e-01]\n",
      "   [  4.64320667e-02  -1.26569450e-01  -7.67161846e-02  -6.97960034e-02\n",
      "     -6.56472519e-02]\n",
      "   [  5.27308229e-03  -7.77473301e-02  -1.16894446e-01  -2.75262259e-02\n",
      "      4.61079888e-02]]\n",
      "\n",
      "  [[ -7.80758262e-02  -8.10922310e-02  -1.03368871e-02  -4.44799550e-02\n",
      "      1.24936048e-02]\n",
      "   [  4.72132228e-02  -3.27833965e-02   5.23973033e-02   3.65681499e-02\n",
      "     -4.12011631e-02]\n",
      "   [ -4.18493822e-02  -6.70980886e-02  -3.01863551e-02   8.28727428e-03\n",
      "     -1.05844595e-01]\n",
      "   [  4.93454412e-02  -4.76631448e-02  -1.20374039e-04  -5.46130165e-02\n",
      "     -1.35212746e-02]\n",
      "   [  3.61775197e-02   7.00696334e-02  -4.11574058e-02  -7.49932183e-03\n",
      "     -4.00166549e-02]]]\n",
      "\n",
      "\n",
      " ..., \n",
      " [[[  8.31502900e-02  -6.01003878e-02  -3.68162151e-03   2.64509656e-02\n",
      "      1.80176064e-01]\n",
      "   [ -7.90639296e-02  -2.54694402e-01  -9.40423012e-02  -6.80610212e-03\n",
      "     -6.64819479e-02]\n",
      "   [ -1.71607465e-01  -2.13202581e-01  -2.52754509e-01  -2.07591638e-01\n",
      "     -2.92971879e-01]\n",
      "   [ -8.49724561e-02  -7.52245188e-02  -9.47817862e-02  -9.48553830e-02\n",
      "     -1.20887093e-01]\n",
      "   [  5.79060316e-02   6.15428612e-02   2.60893106e-02   1.43141747e-02\n",
      "      4.42696847e-02]]\n",
      "\n",
      "  [[ -9.72698256e-02  -8.34404901e-02  -4.36783321e-02   3.34956273e-02\n",
      "     -1.87434424e-02]\n",
      "   [  8.87315348e-02   7.57521465e-02   1.78986304e-02  -6.71348721e-02\n",
      "      3.26617551e-03]\n",
      "   [  7.54582882e-02  -2.31768154e-02   4.43861680e-03   5.47687598e-02\n",
      "      1.14186369e-01]\n",
      "   [  7.86225051e-02   1.36670610e-02   2.13152040e-02  -3.60767581e-02\n",
      "      9.97344851e-02]\n",
      "   [ -6.64460585e-02  -7.09741861e-02   4.18284535e-03   1.57872750e-03\n",
      "     -4.79722470e-02]]\n",
      "\n",
      "  [[ -6.03395030e-02   2.20189095e-02   1.21018374e-02   4.51353146e-03\n",
      "      8.74627084e-02]\n",
      "   [ -4.42555025e-02  -5.14476709e-02  -9.74003319e-03  -3.45400386e-02\n",
      "     -9.80682671e-05]\n",
      "   [ -2.81357523e-02  -1.60891823e-02  -1.51767079e-02  -7.39409029e-02\n",
      "     -1.00031614e-01]\n",
      "   [  1.64058041e-02  -4.33877073e-02  -1.51891885e-02  -3.46090309e-02\n",
      "      1.23679535e-02]\n",
      "   [  1.21321995e-03   6.98564528e-03   1.58656444e-02   6.47586435e-02\n",
      "      1.08142853e-01]]\n",
      "\n",
      "  ..., \n",
      "  [[ -1.23381719e-01  -4.48085666e-02   2.90706865e-02   2.47439686e-02\n",
      "      3.27103436e-02]\n",
      "   [ -1.50786966e-01  -1.35982810e-02  -5.18653691e-02   7.63864547e-04\n",
      "     -6.42127395e-02]\n",
      "   [ -5.91070764e-02   1.82225946e-02  -3.00556421e-02  -1.55618764e-03\n",
      "     -7.10452646e-02]\n",
      "   [ -2.42717303e-02   2.83402093e-02  -2.89214011e-02   3.07442024e-02\n",
      "     -6.14664666e-02]\n",
      "   [ -2.45778803e-02   1.19632147e-02   7.35689839e-03   1.06481100e-02\n",
      "     -7.57829994e-02]]\n",
      "\n",
      "  [[ -8.41095150e-02  -1.16410717e-01  -2.03015432e-02   1.42322928e-02\n",
      "      9.87365097e-03]\n",
      "   [ -3.51055805e-03  -1.85078918e-03   7.96433613e-02  -3.99449132e-02\n",
      "     -8.73122662e-02]\n",
      "   [  1.09060975e-02   7.61488304e-02   1.52304098e-01   8.24424177e-02\n",
      "      9.64798182e-02]\n",
      "   [  7.41204843e-02   7.64587000e-02   8.36235881e-02   1.52796254e-01\n",
      "      1.51670814e-01]\n",
      "   [  1.90251544e-02   1.79672260e-02   3.17013487e-02   4.43938337e-02\n",
      "     -7.92793743e-03]]\n",
      "\n",
      "  [[ -6.66492656e-02  -4.01740074e-02   2.91575287e-02   2.84684952e-02\n",
      "     -5.25429808e-02]\n",
      "   [ -4.69936021e-02   2.15478037e-02   8.46225321e-02   3.21447919e-03\n",
      "     -2.08208747e-02]\n",
      "   [  4.47466113e-02  -1.78063009e-02  -1.01376446e-02   2.38508042e-02\n",
      "      1.21057900e-02]\n",
      "   [  7.58853480e-02   2.27512121e-02   4.17034812e-02   6.94001392e-02\n",
      "      7.93415755e-02]\n",
      "   [  4.92254309e-02  -7.60664279e-03   3.54582295e-02   1.33093037e-02\n",
      "     -8.39925185e-02]]]\n",
      "\n",
      "\n",
      " [[[ -7.18170404e-02  -1.19570263e-01   7.49770850e-02   1.62943546e-02\n",
      "     -6.01310134e-02]\n",
      "   [  1.22044794e-01  -3.09330635e-02  -1.91663936e-01  -9.48323533e-02\n",
      "     -2.74725189e-03]\n",
      "   [  5.41867800e-02   1.24250948e-01  -7.84497410e-02  -1.63638532e-01\n",
      "     -4.12709713e-02]\n",
      "   [  1.22939050e-01   3.22151855e-02   2.78631914e-02   4.70955744e-02\n",
      "      1.59703642e-01]\n",
      "   [  6.49094433e-02   1.00947015e-01   9.92663875e-02   1.41091108e-01\n",
      "      4.72717313e-03]]\n",
      "\n",
      "  [[ -1.65980626e-02   8.02425146e-02   5.21947481e-02   3.63216959e-02\n",
      "     -5.70243709e-02]\n",
      "   [  3.92623655e-02  -4.02854457e-02   5.09970821e-02   1.38521224e-01\n",
      "      5.54469647e-03]\n",
      "   [ -3.39636318e-02   7.79024884e-02  -4.11241762e-02   1.48379216e-02\n",
      "      2.21401863e-02]\n",
      "   [  3.87083814e-02   4.65576127e-02   3.34232673e-02  -4.79677059e-02\n",
      "      2.79056728e-02]\n",
      "   [ -3.96253020e-02   2.08452176e-02   6.04856806e-03  -7.08815306e-02\n",
      "     -1.59794778e-01]]\n",
      "\n",
      "  [[ -6.65592030e-02  -1.63277566e-01  -7.41532119e-03  -4.75268625e-02\n",
      "     -3.70069519e-02]\n",
      "   [ -6.47313595e-02  -7.33540952e-02  -5.98420091e-02  -1.26197869e-02\n",
      "     -2.87337210e-02]\n",
      "   [ -1.16068413e-02   8.60683843e-02  -1.89782996e-02  -3.64581533e-02\n",
      "     -1.10548139e-01]\n",
      "   [ -4.93588448e-02   7.70138875e-02   6.86497688e-02  -5.40418886e-02\n",
      "      2.78540794e-02]\n",
      "   [  5.97189479e-02  -1.56758800e-02   9.08316374e-02  -1.77715614e-03\n",
      "      4.22653519e-02]]\n",
      "\n",
      "  ..., \n",
      "  [[ -3.93114127e-02  -6.19087294e-02  -1.98676195e-02   8.03806074e-03\n",
      "     -2.24862117e-02]\n",
      "   [ -9.33932289e-02  -1.35173416e-02  -1.41398953e-02   6.60676509e-02\n",
      "      1.12935878e-01]\n",
      "   [ -4.06784639e-02  -3.91674377e-02   3.66901048e-02   4.89725769e-02\n",
      "      1.17575981e-01]\n",
      "   [ -2.05638334e-02   4.84617194e-04   1.19994514e-01  -1.89755987e-02\n",
      "      7.18562007e-02]\n",
      "   [ -7.43421167e-02  -2.70975046e-02   2.61789653e-02  -1.43208327e-02\n",
      "     -4.62118387e-02]]\n",
      "\n",
      "  [[  4.98447157e-02   4.96022142e-02   7.17834150e-03   4.05999795e-02\n",
      "      5.67013919e-02]\n",
      "   [ -7.45661706e-02  -1.91795267e-02  -2.25533806e-02   6.92940652e-02\n",
      "      9.79183391e-02]\n",
      "   [ -1.60637677e-01  -1.63675353e-01  -1.01245537e-01   3.48732956e-02\n",
      "      1.56918988e-01]\n",
      "   [ -1.77560240e-01  -2.10667312e-01  -5.62977269e-02   3.34889479e-02\n",
      "      1.58232283e-02]\n",
      "   [ -6.08660206e-02   1.19806463e-02   1.14528365e-01   8.06961767e-03\n",
      "     -1.48743233e-02]]\n",
      "\n",
      "  [[  2.16131490e-02   4.46726643e-02   8.38894248e-02   2.52310578e-02\n",
      "      1.41836470e-02]\n",
      "   [  6.87546730e-02   7.20493868e-02   1.34622410e-01   1.50996655e-01\n",
      "     -7.14915385e-03]\n",
      "   [ -2.01703589e-02  -9.11028460e-02  -7.26275593e-02  -6.24181479e-02\n",
      "      8.67013559e-02]\n",
      "   [  2.27544457e-02   9.27766263e-02   4.40841131e-02  -4.10381258e-02\n",
      "     -2.67833308e-03]\n",
      "   [  6.18339032e-02   1.06301829e-01   1.57524720e-02  -1.01286813e-03\n",
      "     -5.33636250e-02]]]\n",
      "\n",
      "\n",
      " [[[ -1.26836626e-02   3.40916477e-02   1.87310465e-02   4.21637185e-02\n",
      "      1.45046199e-02]\n",
      "   [  9.98833105e-02   6.79155439e-02  -4.06518690e-02  -5.69119677e-02\n",
      "     -5.19773550e-02]\n",
      "   [  2.53865480e-01  -6.62742369e-03  -1.80407569e-01  -1.43699452e-01\n",
      "     -8.43903050e-02]\n",
      "   [  1.70709759e-01   4.49592024e-02  -4.54755239e-02  -1.55688331e-01\n",
      "     -1.20233089e-01]\n",
      "   [  1.13655627e-01   1.80172235e-01   6.21429496e-02  -1.03381939e-01\n",
      "     -1.13745421e-01]]\n",
      "\n",
      "  [[ -2.96379756e-02  -7.56910667e-02  -9.43707824e-02  -7.80255869e-02\n",
      "      2.11196933e-02]\n",
      "   [ -6.60778806e-02  -1.03922069e-01  -4.40546237e-02  -3.26233767e-02\n",
      "     -9.05961320e-02]\n",
      "   [  8.21509212e-03  -8.09769705e-02  -5.23917340e-02  -2.13982398e-03\n",
      "     -8.76180753e-02]\n",
      "   [  2.05293354e-02  -1.19106248e-02  -5.04455343e-02  -1.01169430e-01\n",
      "     -1.06564239e-01]\n",
      "   [  8.74150321e-02   9.70446412e-03   1.96657497e-02  -3.42981219e-02\n",
      "     -8.78666639e-02]]\n",
      "\n",
      "  [[ -1.34484634e-01  -9.73683223e-02   1.08584929e-02   1.72863472e-02\n",
      "      3.85938818e-03]\n",
      "   [ -5.08553013e-02  -6.63895980e-02  -5.92358061e-04  -2.40023690e-03\n",
      "     -5.48834428e-02]\n",
      "   [  1.05088204e-02   4.04773001e-03  -4.36562113e-02   3.26447673e-02\n",
      "     -1.71783604e-02]\n",
      "   [ -2.47949716e-02  -1.13878511e-02   8.55627470e-03  -4.50764187e-02\n",
      "      4.47429121e-02]\n",
      "   [  1.18802510e-01   1.63518023e-02  -3.09092947e-03  -2.08711457e-02\n",
      "     -3.74923907e-02]]\n",
      "\n",
      "  ..., \n",
      "  [[  5.84548488e-02  -7.11920625e-03  -3.43984701e-02  -4.10172865e-02\n",
      "      5.64996898e-02]\n",
      "   [  4.76912148e-02  -4.18138038e-03  -3.81300636e-02  -6.08209558e-02\n",
      "      7.68335164e-02]\n",
      "   [  2.03356501e-02   7.42083117e-02  -4.34930660e-02  -7.15441555e-02\n",
      "     -2.55171917e-02]\n",
      "   [  8.06021541e-02   1.24158055e-01  -1.00612789e-02   6.60433099e-02\n",
      "      6.86030909e-02]\n",
      "   [  2.96977051e-02   3.98916006e-02   4.98613119e-02   7.18980581e-02\n",
      "      2.50710342e-02]]\n",
      "\n",
      "  [[ -6.09009899e-02   2.37426721e-02  -2.02478953e-02  -5.69846220e-02\n",
      "     -2.60700583e-02]\n",
      "   [ -3.22246775e-02   1.08824559e-01   8.74285474e-02  -4.78877723e-02\n",
      "     -7.20841363e-02]\n",
      "   [  4.60410416e-02   6.94972137e-03   4.63546924e-02  -1.34936590e-02\n",
      "      7.12305121e-03]\n",
      "   [ -2.58257855e-02  -6.23104423e-02  -1.76750757e-02   2.96056923e-02\n",
      "      2.59947851e-02]\n",
      "   [ -8.58641192e-02   1.09745553e-02  -3.65842953e-02  -5.41808605e-02\n",
      "      6.78327233e-02]]\n",
      "\n",
      "  [[ -3.36112641e-02   5.34814503e-03  -4.00868505e-02   2.85205198e-03\n",
      "     -7.76412934e-02]\n",
      "   [  6.48164749e-02   3.67582105e-02   4.88162786e-02  -3.32253240e-03\n",
      "     -5.18940156e-03]\n",
      "   [  3.82703356e-02  -5.25044613e-02  -5.33058867e-02   3.28069814e-02\n",
      "     -6.95708990e-02]\n",
      "   [ -1.70316547e-02  -8.08569342e-02  -5.32546453e-02  -3.04136761e-02\n",
      "     -1.65421665e-02]\n",
      "   [ -4.30854000e-02   4.00404632e-03  -1.81407295e-02  -1.99580118e-02\n",
      "     -5.67107042e-03]]]]\n"
     ]
    }
   ],
   "source": [
    "if torch.cuda.is_available():\n",
    "    try:\n",
    "        print(t.data.numpy())\n",
    "    except RuntimeError as e:\n",
    "        \"you can't transform a GPU tensor to a numpy nd array, you have to copy your weight tendor to cpu and then get the numpy array\"\n",
    "\n",
    "print(type(t.cpu().data.numpy()))\n",
    "print(t.cpu().data.numpy().shape)\n",
    "print(t.cpu().data.numpy())"
   ]
  },
  {
   "cell_type": "markdown",
   "metadata": {
    "slideshow": {
     "slide_type": "notes"
    }
   },
   "source": [
    "\n",
    "\n",
    "Now that we know how to convert tensors to numpy arrays, we can use this knowledge to vizualise them with matplotlib! Let's print out the conv filters of the first convolutional layer.\n"
   ]
  },
  {
   "cell_type": "code",
   "execution_count": 56,
   "metadata": {
    "slideshow": {
     "slide_type": "skip"
    }
   },
   "outputs": [
    {
     "name": "stdout",
     "output_type": "stream",
     "text": [
      "(10, 1, 5, 5)\n",
      "(10, 5, 5)\n"
     ]
    },
    {
     "data": {
      "image/png": "[encoded data removed]",
      "text/plain": [
       "<matplotlib.figure.Figure at 0x7fe20a397f28>"
      ]
     },
     "metadata": {},
     "output_type": "display_data"
    }
   ],
   "source": [
    "data = model.conv1.weight.cpu().data.numpy()\n",
    "print (data.shape)\n",
    "print (data[:, 0].shape)\n",
    "\n",
    "kernel_num = data.shape[0]\n",
    "\n",
    "fig, axes = plt.subplots(ncols=kernel_num, figsize=(2*kernel_num, 2))\n",
    "\n",
    "for col in range(kernel_num):\n",
    "    axes[col].imshow(data[col, 0, :, :], cmap=plt.cm.gray)\n",
    "plt.show()"
   ]
  },
  {
   "cell_type": "markdown",
   "metadata": {
    "slideshow": {
     "slide_type": "skip"
    }
   },
   "source": [
    "\n",
    "\n",
    "These plots have a large amount of contrast, but that is because they are normalized by the maximum/minimum weight in each filter, not across all the filters. After normalization, the plots look like the figures below.\n"
   ]
  },
  {
   "cell_type": "code",
   "execution_count": 57,
   "metadata": {
    "slideshow": {
     "slide_type": "skip"
    }
   },
   "outputs": [
    {
     "data": {
      "image/png": "[encoded data removed]",
      "text/plain": [
       "<matplotlib.figure.Figure at 0x7fe20a3ec7b8>"
      ]
     },
     "metadata": {},
     "output_type": "display_data"
    }
   ],
   "source": [
    "fig, axes = plt.subplots(ncols=kernel_num, figsize=(2*kernel_num, 2))\n",
    "\n",
    "for col in range(kernel_num):\n",
    "    axes[col].imshow(data[col, 0, :, :], vmin=np.amin(data), vmax=np.amax(data), cmap=plt.cm.gray)\n",
    "plt.show()"
   ]
  },
  {
   "cell_type": "markdown",
   "metadata": {
    "slideshow": {
     "slide_type": "skip"
    }
   },
   "source": [
    "\n",
    "\n",
    "If you want also zero-center the plots, you need to add this condition to the plot properties. After zero-centering, the plots look almost identical, which tells us that the weights are relatively balanced with respect to zero.\n"
   ]
  },
  {
   "cell_type": "code",
   "execution_count": 58,
   "metadata": {
    "slideshow": {
     "slide_type": "skip"
    }
   },
   "outputs": [
    {
     "name": "stdout",
     "output_type": "stream",
     "text": [
      "Minimal weight -0.476305\n",
      "Maximal weight 0.426415\n",
      "Absolute maximal weight 0.476305\n"
     ]
    },
    {
     "data": {
      "image/png": "[encoded data removed]",
      "text/plain": [
       "<matplotlib.figure.Figure at 0x7fe209e24ba8>"
      ]
     },
     "metadata": {},
     "output_type": "display_data"
    }
   ],
   "source": [
    "fig, axes = plt.subplots(ncols=kernel_num, figsize=(2*kernel_num, 2))\n",
    "\n",
    "abs_max = np.max(np.fabs(data))\n",
    "print ('Minimal weight', np.amin(data))\n",
    "print ('Maximal weight', np.amax(data))\n",
    "print ('Absolute maximal weight', abs_max)\n",
    "for col in range(kernel_num):\n",
    "    axes[col].imshow(data[col, 0, :, :], vmin=-abs_max, vmax=abs_max, cmap=plt.cm.gray)\n",
    "plt.show()"
   ]
  },
  {
   "cell_type": "markdown",
   "metadata": {
    "collapsed": true,
    "slideshow": {
     "slide_type": "slide"
    }
   },
   "source": [
    "## 4. Application on surface finish quality inspection\n",
    "\n",
    "* Surface finish is important to improve appearance as well as quality (rough surfaces wear more quickly).\n",
    "* The surface roughness is a good predictor of the mechanical interactions and can be due to a non-optimal manufacturing process.\n",
    "* Roughness is mostly measured using a manual comparison against a surface roughness gage, it's also possible to use a profilometer.\n",
    "* **Goal:** Automate surface finish quality inspection on aluminum pieces manufactured at Georgia Tech.\n",
    "* Replicate human judgement of good/bad surface finish => Image classification => CNN"
   ]
  },
  {
   "cell_type": "markdown",
   "metadata": {
    "slideshow": {
     "slide_type": "skip"
    }
   },
   "source": [
    "In the goal of moving towards smart manufacturing and fully automated machine shops, we looked into finding a way to automate surface finish quality inspection. We are trying to replicate human judgement without using surface roughness gage. The generated pieces are in aluminum produced from turning operations from a CNC machine. \n",
    "If a human can look at the surface and decide whether the surface is good or bad, can an algorithm do so based on a picture, mainly that now, most of us have good quality cameras on our devices ? \n",
    "This problem goes back to a binary image classification task. \n",
    "The rest of the tutorial will show you how we retrained a CNN to classify our images and reached --- % accuracy. "
   ]
  },
  {
   "cell_type": "code",
   "execution_count": 59,
   "metadata": {
    "collapsed": true,
    "slideshow": {
     "slide_type": "skip"
    }
   },
   "outputs": [],
   "source": [
    "from torch.optim import lr_scheduler\n",
    "from skimage import io, transform\n",
    "import torchvision\n",
    "from torchvision import models\n",
    "from torch.utils.data import Dataset, DataLoader\n",
    "\n",
    "plt.ion()   # interactive mode"
   ]
  },
  {
   "cell_type": "markdown",
   "metadata": {
    "slideshow": {
     "slide_type": "notes"
    }
   },
   "source": [
    "We load our dataset that you can find publically available at .... . Our dataset has 570 pictures per class, divided as follows: 490 per class for training and 80 per class for validation. It is recommended to keep 10 to 30 % of the data as validation data in order to tune the model. Remember that in Machine Learning/Deep learning, the testing dataset is precious, so it should be different from the validation and the training. We used 70 pictures per class for Testing.  \n",
    "We do some pre-processsing on the images: Resize them to 256, then crop at center to get an image of size 224.  "
   ]
  },
  {
   "cell_type": "code",
   "execution_count": 60,
   "metadata": {
    "collapsed": true,
    "slideshow": {
     "slide_type": "skip"
    }
   },
   "outputs": [],
   "source": [
    "# Data augmentation and normalization for training\n",
    "# Just normalization for validation and testing\n",
    "data_transforms = {\n",
    "    'train': transforms.Compose([\n",
    "        transforms.Resize(256),\n",
    "        transforms.CenterCrop(224),\n",
    "        transforms.RandomHorizontalFlip(),\n",
    "        transforms.ToTensor(),\n",
    "        transforms.Normalize([0.485, 0.456, 0.406], [0.229, 0.224, 0.225])\n",
    "    ]),\n",
    "    'val': transforms.Compose([\n",
    "        transforms.Resize(256),\n",
    "        transforms.CenterCrop(224),\n",
    "        transforms.ToTensor(),\n",
    "        transforms.Normalize([0.485, 0.456, 0.406], [0.229, 0.224, 0.225])\n",
    "    ]),\n",
    "    'test': transforms.Compose([\n",
    "        transforms.Resize(256),\n",
    "        transforms.CenterCrop(224),\n",
    "        transforms.ToTensor(),\n",
    "        transforms.Normalize([0.485, 0.456, 0.406], [0.229, 0.224, 0.225])\n",
    "    ]),\n",
    "}\n",
    "\n",
    "data_dir = 'data/surface_quality'\n",
    "image_datasets = {x: datasets.ImageFolder(os.path.join(data_dir, x),\n",
    "                                          data_transforms[x])\n",
    "                  for x in ['train', 'val','test']}\n",
    "dataloaders = {x: torch.utils.data.DataLoader(image_datasets[x], batch_size=batch_num_size,\n",
    "                                             shuffle=True, num_workers=4)\n",
    "              for x in ['train', 'val','test']}\n",
    "dataset_sizes = {x: len(image_datasets[x]) for x in ['train', 'val','test']}\n",
    "class_names = image_datasets['train'].classes"
   ]
  },
  {
   "cell_type": "markdown",
   "metadata": {
    "slideshow": {
     "slide_type": "slide"
    }
   },
   "source": [
    "## 4.1 Dataset:\n",
    "* Training: 490 per class\n",
    "* Validation: 80 per class\n",
    "* Testing: 70 per class "
   ]
  },
  {
   "cell_type": "markdown",
   "metadata": {
    "slideshow": {
     "slide_type": "skip"
    }
   },
   "source": [
    "Let's write a function to visualize the images that we using from our dataet. "
   ]
  },
  {
   "cell_type": "code",
   "execution_count": 61,
   "metadata": {
    "collapsed": true,
    "slideshow": {
     "slide_type": "skip"
    }
   },
   "outputs": [],
   "source": [
    "def imshow(batch, class_names=None, num_images=4):\n",
    "    plt.figure(figsize=(1.7*num_images, 1.7))\n",
    "    img, classes = batch\n",
    "    img_num = min(num_images, img.shape[0])\n",
    "\n",
    "    grid = torchvision.utils.make_grid(img[:img_num], nrow=img_num, padding=10, pad_value=10)\n",
    "    grid = grid.cpu().numpy().transpose((1, 2, 0))\n",
    "    mean = np.array([0.485, 0.456, 0.406])\n",
    "    std = np.array([0.229, 0.224, 0.225])\n",
    "    grid = std * grid + mean\n",
    "    grid = np.clip(grid, 0, 1)\n",
    "    plt.imshow(grid)\n",
    "    if class_names:\n",
    "        titles = [class_names[x] for x in classes[:img_num]]\n",
    "        plt.title(titles)\n",
    "    plt.pause(0.001)  # pause a bit so that plots are updated"
   ]
  },
  {
   "cell_type": "markdown",
   "metadata": {
    "slideshow": {
     "slide_type": "notes"
    }
   },
   "source": [
    "Now let's visualize 4 random images from the dataset."
   ]
  },
  {
   "cell_type": "code",
   "execution_count": 62,
   "metadata": {
    "slideshow": {
     "slide_type": "fragment"
    }
   },
   "outputs": [
    {
     "data": {
      "image/png": "[encoded data removed]",
      "text/plain": [
       "<matplotlib.figure.Figure at 0x7fe209e57e10>"
      ]
     },
     "metadata": {},
     "output_type": "display_data"
    }
   ],
   "source": [
    "imshow(next(iter(dataloaders['train'])), class_names, num_images=6)"
   ]
  },
  {
   "cell_type": "markdown",
   "metadata": {
    "slideshow": {
     "slide_type": "skip"
    }
   },
   "source": [
    "Let's now write our training function: "
   ]
  },
  {
   "cell_type": "code",
   "execution_count": 63,
   "metadata": {
    "collapsed": true,
    "slideshow": {
     "slide_type": "skip"
    }
   },
   "outputs": [],
   "source": [
    "def train_model(model, criterion, optimizer, scheduler, train_loader, test_loader, num_epochs=25):\n",
    "    best_model_wts = model.state_dict()\n",
    "    best_acc = 0.0\n",
    "\n",
    "    for epoch in range(num_epochs):\n",
    "        print('Epoch {}/{}'.format(epoch, num_epochs - 1))\n",
    "        print('-' * 80)\n",
    "\n",
    "        scheduler.step()\n",
    "        train(model, epoch, criterion, optimizer, train_loader)\n",
    "        acc, loss = test(model, epoch, criterion, test_loader)\n",
    "        if acc > best_acc:\n",
    "            best_acc = acc\n",
    "            best_model_wts = model.state_dict()\n",
    "\n",
    "    print('Best val Acc: {:4f}'.format(best_acc))\n",
    "\n",
    "    # load best model weights\n",
    "    model.load_state_dict(best_model_wts)\n",
    "    return model"
   ]
  },
  {
   "cell_type": "code",
   "execution_count": 64,
   "metadata": {
    "collapsed": true,
    "slideshow": {
     "slide_type": "skip"
    }
   },
   "outputs": [],
   "source": [
    "def visualize_model(model, dataset, class_names=None, num_images=6):\n",
    "    inputs, target = next(iter(dataset))\n",
    "    inputs, target = Variable(inputs), Variable(target)\n",
    "    if cuda_gpu:\n",
    "        inputs, labels = inputs.cuda(), target.cuda()\n",
    "        model.cuda()\n",
    "    outputs = model(inputs)\n",
    "    _, preds = torch.max(outputs.data, 1)\n",
    "    imshow((inputs.data, preds), class_names=class_names, num_images=num_images)\n",
    "    if class_names:\n",
    "        print ('Actual labels:\\n',[class_names[x] for x in target.data[:num_images]])\n",
    "        "
   ]
  },
  {
   "cell_type": "markdown",
   "metadata": {
    "slideshow": {
     "slide_type": "slide"
    }
   },
   "source": [
    "## Transfer Learning\n",
    "\n",
    "Training a deep network from scratch is tricky because of limited dataset and computationally expensive.\n",
    "\n",
    "**Transfer Learning** is a method of using a deep net pretrained on a larger dataset as feature extractor. We  need to change classification layers according to our dataset and retrain the network. For re-training we have two options: \n",
    "* Finetuning -- retrain all the layers.\n",
    "* **Fixed feature extractor** -- only retrain classifier (usually, last fully connected layers of the network).\n",
    "\n",
    "We used **ResNet18** which was trained on ImageNet, we set pretrained=True\n"
   ]
  },
  {
   "cell_type": "code",
   "execution_count": 65,
   "metadata": {
    "collapsed": true,
    "slideshow": {
     "slide_type": "fragment"
    }
   },
   "outputs": [],
   "source": [
    "model_ft = models.resnet18(pretrained=True)\n",
    "for param in model.parameters():\n",
    "    param.requires_grad = False\n",
    "num_ftrs = model_ft.fc.in_features\n",
    "model_ft.fc = nn.Linear(num_ftrs, 2)"
   ]
  },
  {
   "cell_type": "markdown",
   "metadata": {
    "slideshow": {
     "slide_type": "skip"
    }
   },
   "source": [
    "Let's set our training parameters and fine-tune the last layer of the function.\n",
    "* Optimization Method: SGD\n",
    "* Loss function: CrossEntropyLoss"
   ]
  },
  {
   "cell_type": "code",
   "execution_count": 66,
   "metadata": {
    "collapsed": true,
    "slideshow": {
     "slide_type": "skip"
    }
   },
   "outputs": [],
   "source": [
    "cuda_gpu = torch.cuda.is_available()\n",
    "#cuda_gpu = False\n",
    "criterion = nn.CrossEntropyLoss()\n",
    "\n",
    "# Observe that all parameters are being optimized\n",
    "optimizer_ft = optim.SGD(model_ft.parameters(), lr=0.001, momentum=0.9)\n",
    "\n",
    "# Decay LR by a factor of 0.1 every 7 epochs\n",
    "exp_lr_scheduler = lr_scheduler.StepLR(optimizer_ft, step_size=7, gamma=0.1)"
   ]
  },
  {
   "cell_type": "code",
   "execution_count": 67,
   "metadata": {
    "slideshow": {
     "slide_type": "skip"
    }
   },
   "outputs": [
    {
     "name": "stdout",
     "output_type": "stream",
     "text": [
      "Epoch 0/24\n",
      "--------------------------------------------------------------------------------\n",
      "\n",
      "Test set: Average loss: 0.2126, Accuracy: 153/160 (96%)\n",
      "\n",
      "Epoch 1/24\n",
      "--------------------------------------------------------------------------------\n",
      "\n",
      "Test set: Average loss: 0.1146, Accuracy: 155/160 (97%)\n",
      "\n",
      "Epoch 2/24\n",
      "--------------------------------------------------------------------------------\n",
      "\n",
      "Test set: Average loss: 0.1029, Accuracy: 156/160 (98%)\n",
      "\n",
      "Epoch 3/24\n",
      "--------------------------------------------------------------------------------\n",
      "\n",
      "Test set: Average loss: 0.0888, Accuracy: 155/160 (97%)\n",
      "\n",
      "Epoch 4/24\n",
      "--------------------------------------------------------------------------------\n",
      "\n",
      "Test set: Average loss: 0.0620, Accuracy: 156/160 (98%)\n",
      "\n",
      "Epoch 5/24\n",
      "--------------------------------------------------------------------------------\n",
      "\n",
      "Test set: Average loss: 0.0703, Accuracy: 157/160 (98%)\n",
      "\n",
      "Epoch 6/24\n",
      "--------------------------------------------------------------------------------\n",
      "\n",
      "Test set: Average loss: 0.0638, Accuracy: 157/160 (98%)\n",
      "\n",
      "Epoch 7/24\n",
      "--------------------------------------------------------------------------------\n",
      "\n",
      "Test set: Average loss: 0.0670, Accuracy: 157/160 (98%)\n",
      "\n",
      "Epoch 8/24\n",
      "--------------------------------------------------------------------------------\n",
      "\n",
      "Test set: Average loss: 0.0482, Accuracy: 157/160 (98%)\n",
      "\n",
      "Epoch 9/24\n",
      "--------------------------------------------------------------------------------\n",
      "\n",
      "Test set: Average loss: 0.0483, Accuracy: 157/160 (98%)\n",
      "\n",
      "Epoch 10/24\n",
      "--------------------------------------------------------------------------------\n",
      "\n",
      "Test set: Average loss: 0.0536, Accuracy: 157/160 (98%)\n",
      "\n",
      "Epoch 11/24\n",
      "--------------------------------------------------------------------------------\n",
      "\n",
      "Test set: Average loss: 0.0475, Accuracy: 157/160 (98%)\n",
      "\n",
      "Epoch 12/24\n",
      "--------------------------------------------------------------------------------\n",
      "\n",
      "Test set: Average loss: 0.0555, Accuracy: 157/160 (98%)\n",
      "\n",
      "Epoch 13/24\n",
      "--------------------------------------------------------------------------------\n",
      "\n",
      "Test set: Average loss: 0.0545, Accuracy: 156/160 (98%)\n",
      "\n",
      "Epoch 14/24\n",
      "--------------------------------------------------------------------------------\n",
      "\n",
      "Test set: Average loss: 0.0689, Accuracy: 157/160 (98%)\n",
      "\n",
      "Epoch 15/24\n",
      "--------------------------------------------------------------------------------\n",
      "\n",
      "Test set: Average loss: 0.0563, Accuracy: 157/160 (98%)\n",
      "\n",
      "Epoch 16/24\n",
      "--------------------------------------------------------------------------------\n",
      "\n",
      "Test set: Average loss: 0.0528, Accuracy: 156/160 (98%)\n",
      "\n",
      "Epoch 17/24\n",
      "--------------------------------------------------------------------------------\n",
      "\n",
      "Test set: Average loss: 0.0555, Accuracy: 157/160 (98%)\n",
      "\n",
      "Epoch 18/24\n",
      "--------------------------------------------------------------------------------\n",
      "\n",
      "Test set: Average loss: 0.0570, Accuracy: 157/160 (98%)\n",
      "\n",
      "Epoch 19/24\n",
      "--------------------------------------------------------------------------------\n",
      "\n",
      "Test set: Average loss: 0.0516, Accuracy: 157/160 (98%)\n",
      "\n",
      "Epoch 20/24\n",
      "--------------------------------------------------------------------------------\n",
      "\n",
      "Test set: Average loss: 0.0505, Accuracy: 157/160 (98%)\n",
      "\n",
      "Epoch 21/24\n",
      "--------------------------------------------------------------------------------\n",
      "\n",
      "Test set: Average loss: 0.0461, Accuracy: 157/160 (98%)\n",
      "\n",
      "Epoch 22/24\n",
      "--------------------------------------------------------------------------------\n",
      "\n",
      "Test set: Average loss: 0.0563, Accuracy: 157/160 (98%)\n",
      "\n",
      "Epoch 23/24\n",
      "--------------------------------------------------------------------------------\n",
      "\n",
      "Test set: Average loss: 0.0555, Accuracy: 157/160 (98%)\n",
      "\n",
      "Epoch 24/24\n",
      "--------------------------------------------------------------------------------\n",
      "\n",
      "Test set: Average loss: 0.0526, Accuracy: 157/160 (98%)\n",
      "\n",
      "Best val Acc: 0.981250\n",
      "CPU times: user 30.4 s, sys: 40.3 s, total: 1min 10s\n",
      "Wall time: 1min 42s\n"
     ]
    }
   ],
   "source": [
    "%time model_ft = train_model(model_ft, criterion, optimizer_ft, exp_lr_scheduler, \\\n",
    "                             dataloaders['train'], dataloaders['val'], num_epochs=25)\n",
    "# Save the trained model\n",
    "torch.save(model_ft, 'pretrained/resnet18_surface.t7')"
   ]
  },
  {
   "cell_type": "markdown",
   "metadata": {
    "slideshow": {
     "slide_type": "slide"
    }
   },
   "source": [
    "# Training Results: \n",
    "\n",
    "* Training on CPU took 1h 21min 55s with a test accuracy = 97.14 %\n",
    "* Training on GPU took 1min 47s with a test accuracy = 97.86 %"
   ]
  },
  {
   "cell_type": "code",
   "execution_count": 68,
   "metadata": {
    "slideshow": {
     "slide_type": "fragment"
    }
   },
   "outputs": [
    {
     "name": "stdout",
     "output_type": "stream",
     "text": [
      "\n",
      "Test set: Average loss: 0.1052, Accuracy: 136/140 (97%)\n",
      "\n"
     ]
    }
   ],
   "source": [
    "acc, loss = test(model_ft, 0, criterion, dataloaders['test'])"
   ]
  },
  {
   "cell_type": "code",
   "execution_count": 69,
   "metadata": {
    "slideshow": {
     "slide_type": "fragment"
    }
   },
   "outputs": [
    {
     "data": {
      "image/png": "[encoded data removed]",
      "text/plain": [
       "<matplotlib.figure.Figure at 0x7fe20a6ed828>"
      ]
     },
     "metadata": {},
     "output_type": "display_data"
    },
    {
     "name": "stdout",
     "output_type": "stream",
     "text": [
      "Actual labels:\n",
      " ['good_surface', 'bad_surface', 'bad_surface', 'bad_surface', 'good_surface', 'bad_surface']\n"
     ]
    }
   ],
   "source": [
    "visualize_model(model_ft, dataloaders['test'], num_images=6, class_names=class_names)"
   ]
  },
  {
   "cell_type": "code",
   "execution_count": 70,
   "metadata": {
    "slideshow": {
     "slide_type": "skip"
    }
   },
   "outputs": [
    {
     "name": "stdout",
     "output_type": "stream",
     "text": [
      "ResNet(\n",
      "  (conv1): Conv2d(3, 64, kernel_size=(7, 7), stride=(2, 2), padding=(3, 3), bias=False)\n",
      "  (bn1): BatchNorm2d(64, eps=1e-05, momentum=0.1, affine=True)\n",
      "  (relu): ReLU(inplace)\n",
      "  (maxpool): MaxPool2d(kernel_size=(3, 3), stride=(2, 2), padding=(1, 1), dilation=(1, 1), ceil_mode=False)\n",
      "  (layer1): Sequential(\n",
      "    (0): BasicBlock(\n",
      "      (conv1): Conv2d(64, 64, kernel_size=(3, 3), stride=(1, 1), padding=(1, 1), bias=False)\n",
      "      (bn1): BatchNorm2d(64, eps=1e-05, momentum=0.1, affine=True)\n",
      "      (relu): ReLU(inplace)\n",
      "      (conv2): Conv2d(64, 64, kernel_size=(3, 3), stride=(1, 1), padding=(1, 1), bias=False)\n",
      "      (bn2): BatchNorm2d(64, eps=1e-05, momentum=0.1, affine=True)\n",
      "    )\n",
      "    (1): BasicBlock(\n",
      "      (conv1): Conv2d(64, 64, kernel_size=(3, 3), stride=(1, 1), padding=(1, 1), bias=False)\n",
      "      (bn1): BatchNorm2d(64, eps=1e-05, momentum=0.1, affine=True)\n",
      "      (relu): ReLU(inplace)\n",
      "      (conv2): Conv2d(64, 64, kernel_size=(3, 3), stride=(1, 1), padding=(1, 1), bias=False)\n",
      "      (bn2): BatchNorm2d(64, eps=1e-05, momentum=0.1, affine=True)\n",
      "    )\n",
      "  )\n",
      "  (layer2): Sequential(\n",
      "    (0): BasicBlock(\n",
      "      (conv1): Conv2d(64, 128, kernel_size=(3, 3), stride=(2, 2), padding=(1, 1), bias=False)\n",
      "      (bn1): BatchNorm2d(128, eps=1e-05, momentum=0.1, affine=True)\n",
      "      (relu): ReLU(inplace)\n",
      "      (conv2): Conv2d(128, 128, kernel_size=(3, 3), stride=(1, 1), padding=(1, 1), bias=False)\n",
      "      (bn2): BatchNorm2d(128, eps=1e-05, momentum=0.1, affine=True)\n",
      "      (downsample): Sequential(\n",
      "        (0): Conv2d(64, 128, kernel_size=(1, 1), stride=(2, 2), bias=False)\n",
      "        (1): BatchNorm2d(128, eps=1e-05, momentum=0.1, affine=True)\n",
      "      )\n",
      "    )\n",
      "    (1): BasicBlock(\n",
      "      (conv1): Conv2d(128, 128, kernel_size=(3, 3), stride=(1, 1), padding=(1, 1), bias=False)\n",
      "      (bn1): BatchNorm2d(128, eps=1e-05, momentum=0.1, affine=True)\n",
      "      (relu): ReLU(inplace)\n",
      "      (conv2): Conv2d(128, 128, kernel_size=(3, 3), stride=(1, 1), padding=(1, 1), bias=False)\n",
      "      (bn2): BatchNorm2d(128, eps=1e-05, momentum=0.1, affine=True)\n",
      "    )\n",
      "  )\n",
      "  (layer3): Sequential(\n",
      "    (0): BasicBlock(\n",
      "      (conv1): Conv2d(128, 256, kernel_size=(3, 3), stride=(2, 2), padding=(1, 1), bias=False)\n",
      "      (bn1): BatchNorm2d(256, eps=1e-05, momentum=0.1, affine=True)\n",
      "      (relu): ReLU(inplace)\n",
      "      (conv2): Conv2d(256, 256, kernel_size=(3, 3), stride=(1, 1), padding=(1, 1), bias=False)\n",
      "      (bn2): BatchNorm2d(256, eps=1e-05, momentum=0.1, affine=True)\n",
      "      (downsample): Sequential(\n",
      "        (0): Conv2d(128, 256, kernel_size=(1, 1), stride=(2, 2), bias=False)\n",
      "        (1): BatchNorm2d(256, eps=1e-05, momentum=0.1, affine=True)\n",
      "      )\n",
      "    )\n",
      "    (1): BasicBlock(\n",
      "      (conv1): Conv2d(256, 256, kernel_size=(3, 3), stride=(1, 1), padding=(1, 1), bias=False)\n",
      "      (bn1): BatchNorm2d(256, eps=1e-05, momentum=0.1, affine=True)\n",
      "      (relu): ReLU(inplace)\n",
      "      (conv2): Conv2d(256, 256, kernel_size=(3, 3), stride=(1, 1), padding=(1, 1), bias=False)\n",
      "      (bn2): BatchNorm2d(256, eps=1e-05, momentum=0.1, affine=True)\n",
      "    )\n",
      "  )\n",
      "  (layer4): Sequential(\n",
      "    (0): BasicBlock(\n",
      "      (conv1): Conv2d(256, 512, kernel_size=(3, 3), stride=(2, 2), padding=(1, 1), bias=False)\n",
      "      (bn1): BatchNorm2d(512, eps=1e-05, momentum=0.1, affine=True)\n",
      "      (relu): ReLU(inplace)\n",
      "      (conv2): Conv2d(512, 512, kernel_size=(3, 3), stride=(1, 1), padding=(1, 1), bias=False)\n",
      "      (bn2): BatchNorm2d(512, eps=1e-05, momentum=0.1, affine=True)\n",
      "      (downsample): Sequential(\n",
      "        (0): Conv2d(256, 512, kernel_size=(1, 1), stride=(2, 2), bias=False)\n",
      "        (1): BatchNorm2d(512, eps=1e-05, momentum=0.1, affine=True)\n",
      "      )\n",
      "    )\n",
      "    (1): BasicBlock(\n",
      "      (conv1): Conv2d(512, 512, kernel_size=(3, 3), stride=(1, 1), padding=(1, 1), bias=False)\n",
      "      (bn1): BatchNorm2d(512, eps=1e-05, momentum=0.1, affine=True)\n",
      "      (relu): ReLU(inplace)\n",
      "      (conv2): Conv2d(512, 512, kernel_size=(3, 3), stride=(1, 1), padding=(1, 1), bias=False)\n",
      "      (bn2): BatchNorm2d(512, eps=1e-05, momentum=0.1, affine=True)\n",
      "    )\n",
      "  )\n",
      "  (avgpool): AvgPool2d(kernel_size=7, stride=1, padding=0, ceil_mode=False, count_include_pad=True)\n",
      "  (fc): Linear(in_features=512, out_features=2, bias=True)\n",
      ")\n"
     ]
    }
   ],
   "source": [
    "print(model_ft)"
   ]
  },
  {
   "cell_type": "markdown",
   "metadata": {
    "slideshow": {
     "slide_type": "slide"
    }
   },
   "source": [
    "# Future work\n",
    "\n",
    "1. Adding more variety to dataset\n",
    "2. Adding more classes for surface quality\n",
    "3. Propagating class labels back to pixels to aid visual quality inspection\n",
    "4. Write an Android application to run surface quality inspection on the phone directly in the machine shop "
   ]
  },
  {
   "cell_type": "markdown",
   "metadata": {
    "collapsed": true,
    "slideshow": {
     "slide_type": "skip"
    }
   },
   "source": [
    "**Related Python-friendly deep learning frameworks.**\n",
    "* PyTorch\n",
    "* Caffe2\n",
    "* Keras\n",
    "* Tensorflow\n",
    "* MXNet"
   ]
  },
  {
   "cell_type": "markdown",
   "metadata": {
    "slideshow": {
     "slide_type": "skip"
    }
   },
   "source": [
    "**Acknowledgements.** We'd like to thank [Facebook Research's Caffe2 team](https://caffe2.ai/) for their generous support of some of our research, which motivated us to learn PyTorch and develop this tutorial."
   ]
  },
  {
   "cell_type": "markdown",
   "metadata": {
    "slideshow": {
     "slide_type": "fragment"
    }
   },
   "source": [
    "# Thank You !"
   ]
  },
  {
   "cell_type": "code",
   "execution_count": null,
   "metadata": {
    "collapsed": true
   },
   "outputs": [],
   "source": []
  }
 ],
 "metadata": {
  "celltoolbar": "Slideshow",
  "kernelspec": {
   "display_name": "Python 3",
   "language": "python",
   "name": "python3"
  },
  "language_info": {
   "codemirror_mode": {
    "name": "ipython",
    "version": 3
   },
   "file_extension": ".py",
   "mimetype": "text/x-python",
   "name": "python",
   "nbconvert_exporter": "python",
   "pygments_lexer": "ipython3",
   "version": "3.6.3"
  }
 },
 "nbformat": 4,
 "nbformat_minor": 2
}
